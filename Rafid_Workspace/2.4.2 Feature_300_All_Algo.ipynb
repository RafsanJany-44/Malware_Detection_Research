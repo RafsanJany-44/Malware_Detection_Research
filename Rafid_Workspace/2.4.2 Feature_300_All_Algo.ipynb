{
 "cells": [
  {
   "cell_type": "markdown",
   "metadata": {},
   "source": [
    "## 2.4.2 Based on the 300 features selected by ANOVA F-test."
   ]
  },
  {
   "cell_type": "code",
   "execution_count": 1,
   "metadata": {
    "_cell_guid": "b1076dfc-b9ad-4769-8c92-a6c4dae69d19",
    "_uuid": "8f2839f25d086af736a60e9eeb907d3b93b6e0e5"
   },
   "outputs": [],
   "source": [
    "import numpy as np\n",
    "import pandas as pd"
   ]
  },
  {
   "cell_type": "code",
   "execution_count": 2,
   "metadata": {},
   "outputs": [],
   "source": [
    "df = pd.read_csv(\"permission-based_malware_2.csv\") #  read a CSV file named into a DataFrame called df\n",
    "target = \"CLASS\" # target variable or outcome variable, which represents the variable that you're trying to predict or model."
   ]
  },
  {
   "cell_type": "code",
   "execution_count": 3,
   "metadata": {},
   "outputs": [
    {
     "data": {
      "text/plain": [
       "(1168, 942)"
      ]
     },
     "execution_count": 3,
     "metadata": {},
     "output_type": "execute_result"
    }
   ],
   "source": [
    "df.shape # This will output a tuple with two elements: the number of rows and the number of columns in the DataFrame."
   ]
  },
  {
   "cell_type": "code",
   "execution_count": 4,
   "metadata": {},
   "outputs": [
    {
     "name": "stdout",
     "output_type": "stream",
     "text": [
      "<class 'pandas.core.frame.DataFrame'>\n",
      "RangeIndex: 1168 entries, 0 to 1167\n",
      "Columns: 942 entries, NAME to CLASS\n",
      "dtypes: int64(941), object(1)\n",
      "memory usage: 8.4+ MB\n"
     ]
    }
   ],
   "source": [
    "df.info() # info() method in pandas DataFrame provides a concise summary of the DataFrame"
   ]
  },
  {
   "cell_type": "code",
   "execution_count": 5,
   "metadata": {},
   "outputs": [
    {
     "data": {
      "text/plain": [
       "CLASS\n",
       "1    602\n",
       "0    566\n",
       "Name: count, dtype: int64"
      ]
     },
     "execution_count": 5,
     "metadata": {},
     "output_type": "execute_result"
    }
   ],
   "source": [
    "df[target].value_counts() #  print the counts of each unique value in the target column of the DataFrame."
   ]
  },
  {
   "cell_type": "code",
   "execution_count": 6,
   "metadata": {},
   "outputs": [],
   "source": [
    "X = df.loc[: , df.columns!=target] # X will contain all the features (columns) of the DataFrame df except for the target column\n",
    "X = X.loc[: , X.columns!=\"NAME\"]\n",
    "y = df[target] # y will contain the target column, which represents the target variable."
   ]
  },
  {
   "cell_type": "markdown",
   "metadata": {},
   "source": [
    "# Feature selection"
   ]
  },
  {
   "cell_type": "code",
   "execution_count": 7,
   "metadata": {},
   "outputs": [
    {
     "name": "stdout",
     "output_type": "stream",
     "text": [
      "Number of columns:  50\n"
     ]
    },
    {
     "name": "stderr",
     "output_type": "stream",
     "text": [
      "c:\\Users\\nadip\\anaconda3\\envs\\Test_Environment\\Lib\\site-packages\\sklearn\\feature_selection\\_univariate_selection.py:112: UserWarning: Features [  2   4   7   8   9  10  11  14  15  17  19  20  21  22  25  26  27  28\n",
      "  29  30  31  33  37  38  39  40  41  43  44  45  46  47  48  49  50  51\n",
      "  52  53  54  55  56  57  58  59  60  61  62  63  64  65  66  67  68  69\n",
      "  70  71  72  75  76  77  78  79  80  82  86  88  89  90  92  93  95  96\n",
      "  97 100 106 108 109 110 112 113 115 116 117 118 119 123 125 126 127 129\n",
      " 130 132 133 135 137 138 139 140 141 142 143 144 146 147 150 151 152 154\n",
      " 156 157 159 164 166 167 169 170 172 173 174 175 176 178 179 180 181 182\n",
      " 183 184 185 186 187 189 190 192 193 194 195 199 200 201 203 204 205 206\n",
      " 207 209 210 211 212 213 215 216 217 218 219 220 222 225 226 227 230 235\n",
      " 238 240 241 242 243 244 245 246 247 248 249 250 251 252 256 257 259 260\n",
      " 261 262 263 265 266 267 268 269 272 273 275 277 278 279 284 285 286 287\n",
      " 288 290 292 295 297 298 299 301 302 303 305 307 308 309 314 315 316] are constant.\n",
      "  warnings.warn(\"Features %s are constant.\" % constant_features_idx, UserWarning)\n",
      "c:\\Users\\nadip\\anaconda3\\envs\\Test_Environment\\Lib\\site-packages\\sklearn\\feature_selection\\_univariate_selection.py:113: RuntimeWarning: invalid value encountered in divide\n",
      "  f = msb / msw\n"
     ]
    },
    {
     "name": "stdout",
     "output_type": "stream",
     "text": [
      "Testing Accuracy:  0.9102564102564102\n",
      "Training Accuracy:  0.9550321199143469\n",
      "___________________________________________________________________________________________\n",
      "Number of columns:  100\n"
     ]
    },
    {
     "name": "stderr",
     "output_type": "stream",
     "text": [
      "c:\\Users\\nadip\\anaconda3\\envs\\Test_Environment\\Lib\\site-packages\\sklearn\\feature_selection\\_univariate_selection.py:112: UserWarning: Features [  2   4   7   8   9  10  11  14  15  17  19  20  21  22  25  26  27  28\n",
      "  29  30  31  33  37  38  39  40  41  43  44  45  46  47  48  49  50  51\n",
      "  52  53  54  55  56  57  58  59  60  61  62  63  64  65  66  67  68  69\n",
      "  70  71  72  75  76  77  78  79  80  82  86  88  89  90  92  93  95  96\n",
      "  97 100 106 108 109 110 112 113 115 116 117 118 119 123 125 126 127 129\n",
      " 130 132 133 135 137 138 139 140 141 142 143 144 146 147 150 151 152 154\n",
      " 156 157 159 164 166 167 169 170 172 173 174 175 176 178 179 180 181 182\n",
      " 183 184 185 186 187 189 190 192 193 194 195 199 200 201 203 204 205 206\n",
      " 207 209 210 211 212 213 215 216 217 218 219 220 222 225 226 227 230 235\n",
      " 238 240 241 242 243 244 245 246 247 248 249 250 251 252 256 257 259 260\n",
      " 261 262 263 265 266 267 268 269 272 273 275 277 278 279 284 285 286 287\n",
      " 288 290 292 295 297 298 299 301 302 303 305 307 308 309 314 315 316] are constant.\n",
      "  warnings.warn(\"Features %s are constant.\" % constant_features_idx, UserWarning)\n",
      "c:\\Users\\nadip\\anaconda3\\envs\\Test_Environment\\Lib\\site-packages\\sklearn\\feature_selection\\_univariate_selection.py:113: RuntimeWarning: invalid value encountered in divide\n",
      "  f = msb / msw\n"
     ]
    },
    {
     "name": "stdout",
     "output_type": "stream",
     "text": [
      "Testing Accuracy:  0.905982905982906\n",
      "Training Accuracy:  0.9700214132762313\n",
      "___________________________________________________________________________________________\n",
      "Number of columns:  150\n"
     ]
    },
    {
     "name": "stderr",
     "output_type": "stream",
     "text": [
      "c:\\Users\\nadip\\anaconda3\\envs\\Test_Environment\\Lib\\site-packages\\sklearn\\feature_selection\\_univariate_selection.py:112: UserWarning: Features [  2   4   7   8   9  10  11  14  15  17  19  20  21  22  25  26  27  28\n",
      "  29  30  31  33  37  38  39  40  41  43  44  45  46  47  48  49  50  51\n",
      "  52  53  54  55  56  57  58  59  60  61  62  63  64  65  66  67  68  69\n",
      "  70  71  72  75  76  77  78  79  80  82  86  88  89  90  92  93  95  96\n",
      "  97 100 106 108 109 110 112 113 115 116 117 118 119 123 125 126 127 129\n",
      " 130 132 133 135 137 138 139 140 141 142 143 144 146 147 150 151 152 154\n",
      " 156 157 159 164 166 167 169 170 172 173 174 175 176 178 179 180 181 182\n",
      " 183 184 185 186 187 189 190 192 193 194 195 199 200 201 203 204 205 206\n",
      " 207 209 210 211 212 213 215 216 217 218 219 220 222 225 226 227 230 235\n",
      " 238 240 241 242 243 244 245 246 247 248 249 250 251 252 256 257 259 260\n",
      " 261 262 263 265 266 267 268 269 272 273 275 277 278 279 284 285 286 287\n",
      " 288 290 292 295 297 298 299 301 302 303 305 307 308 309 314 315 316] are constant.\n",
      "  warnings.warn(\"Features %s are constant.\" % constant_features_idx, UserWarning)\n",
      "c:\\Users\\nadip\\anaconda3\\envs\\Test_Environment\\Lib\\site-packages\\sklearn\\feature_selection\\_univariate_selection.py:113: RuntimeWarning: invalid value encountered in divide\n",
      "  f = msb / msw\n"
     ]
    },
    {
     "name": "stdout",
     "output_type": "stream",
     "text": [
      "Testing Accuracy:  0.9017094017094017\n",
      "Training Accuracy:  0.9785867237687366\n",
      "___________________________________________________________________________________________\n",
      "Number of columns:  200\n"
     ]
    },
    {
     "name": "stderr",
     "output_type": "stream",
     "text": [
      "c:\\Users\\nadip\\anaconda3\\envs\\Test_Environment\\Lib\\site-packages\\sklearn\\feature_selection\\_univariate_selection.py:112: UserWarning: Features [  2   4   7   8   9  10  11  14  15  17  19  20  21  22  25  26  27  28\n",
      "  29  30  31  33  37  38  39  40  41  43  44  45  46  47  48  49  50  51\n",
      "  52  53  54  55  56  57  58  59  60  61  62  63  64  65  66  67  68  69\n",
      "  70  71  72  75  76  77  78  79  80  82  86  88  89  90  92  93  95  96\n",
      "  97 100 106 108 109 110 112 113 115 116 117 118 119 123 125 126 127 129\n",
      " 130 132 133 135 137 138 139 140 141 142 143 144 146 147 150 151 152 154\n",
      " 156 157 159 164 166 167 169 170 172 173 174 175 176 178 179 180 181 182\n",
      " 183 184 185 186 187 189 190 192 193 194 195 199 200 201 203 204 205 206\n",
      " 207 209 210 211 212 213 215 216 217 218 219 220 222 225 226 227 230 235\n",
      " 238 240 241 242 243 244 245 246 247 248 249 250 251 252 256 257 259 260\n",
      " 261 262 263 265 266 267 268 269 272 273 275 277 278 279 284 285 286 287\n",
      " 288 290 292 295 297 298 299 301 302 303 305 307 308 309 314 315 316] are constant.\n",
      "  warnings.warn(\"Features %s are constant.\" % constant_features_idx, UserWarning)\n",
      "c:\\Users\\nadip\\anaconda3\\envs\\Test_Environment\\Lib\\site-packages\\sklearn\\feature_selection\\_univariate_selection.py:113: RuntimeWarning: invalid value encountered in divide\n",
      "  f = msb / msw\n"
     ]
    },
    {
     "name": "stdout",
     "output_type": "stream",
     "text": [
      "Testing Accuracy:  0.905982905982906\n",
      "Training Accuracy:  0.9817987152034261\n",
      "___________________________________________________________________________________________\n",
      "Number of columns:  250\n"
     ]
    },
    {
     "name": "stderr",
     "output_type": "stream",
     "text": [
      "c:\\Users\\nadip\\anaconda3\\envs\\Test_Environment\\Lib\\site-packages\\sklearn\\feature_selection\\_univariate_selection.py:112: UserWarning: Features [  2   4   7   8   9  10  11  14  15  17  19  20  21  22  25  26  27  28\n",
      "  29  30  31  33  37  38  39  40  41  43  44  45  46  47  48  49  50  51\n",
      "  52  53  54  55  56  57  58  59  60  61  62  63  64  65  66  67  68  69\n",
      "  70  71  72  75  76  77  78  79  80  82  86  88  89  90  92  93  95  96\n",
      "  97 100 106 108 109 110 112 113 115 116 117 118 119 123 125 126 127 129\n",
      " 130 132 133 135 137 138 139 140 141 142 143 144 146 147 150 151 152 154\n",
      " 156 157 159 164 166 167 169 170 172 173 174 175 176 178 179 180 181 182\n",
      " 183 184 185 186 187 189 190 192 193 194 195 199 200 201 203 204 205 206\n",
      " 207 209 210 211 212 213 215 216 217 218 219 220 222 225 226 227 230 235\n",
      " 238 240 241 242 243 244 245 246 247 248 249 250 251 252 256 257 259 260\n",
      " 261 262 263 265 266 267 268 269 272 273 275 277 278 279 284 285 286 287\n",
      " 288 290 292 295 297 298 299 301 302 303 305 307 308 309 314 315 316] are constant.\n",
      "  warnings.warn(\"Features %s are constant.\" % constant_features_idx, UserWarning)\n",
      "c:\\Users\\nadip\\anaconda3\\envs\\Test_Environment\\Lib\\site-packages\\sklearn\\feature_selection\\_univariate_selection.py:113: RuntimeWarning: invalid value encountered in divide\n",
      "  f = msb / msw\n"
     ]
    },
    {
     "name": "stdout",
     "output_type": "stream",
     "text": [
      "Testing Accuracy:  0.9145299145299145\n",
      "Training Accuracy:  0.9860813704496788\n",
      "___________________________________________________________________________________________\n",
      "Number of columns:  300\n"
     ]
    },
    {
     "name": "stderr",
     "output_type": "stream",
     "text": [
      "c:\\Users\\nadip\\anaconda3\\envs\\Test_Environment\\Lib\\site-packages\\sklearn\\feature_selection\\_univariate_selection.py:112: UserWarning: Features [  2   4   7   8   9  10  11  14  15  17  19  20  21  22  25  26  27  28\n",
      "  29  30  31  33  37  38  39  40  41  43  44  45  46  47  48  49  50  51\n",
      "  52  53  54  55  56  57  58  59  60  61  62  63  64  65  66  67  68  69\n",
      "  70  71  72  75  76  77  78  79  80  82  86  88  89  90  92  93  95  96\n",
      "  97 100 106 108 109 110 112 113 115 116 117 118 119 123 125 126 127 129\n",
      " 130 132 133 135 137 138 139 140 141 142 143 144 146 147 150 151 152 154\n",
      " 156 157 159 164 166 167 169 170 172 173 174 175 176 178 179 180 181 182\n",
      " 183 184 185 186 187 189 190 192 193 194 195 199 200 201 203 204 205 206\n",
      " 207 209 210 211 212 213 215 216 217 218 219 220 222 225 226 227 230 235\n",
      " 238 240 241 242 243 244 245 246 247 248 249 250 251 252 256 257 259 260\n",
      " 261 262 263 265 266 267 268 269 272 273 275 277 278 279 284 285 286 287\n",
      " 288 290 292 295 297 298 299 301 302 303 305 307 308 309 314 315 316] are constant.\n",
      "  warnings.warn(\"Features %s are constant.\" % constant_features_idx, UserWarning)\n",
      "c:\\Users\\nadip\\anaconda3\\envs\\Test_Environment\\Lib\\site-packages\\sklearn\\feature_selection\\_univariate_selection.py:113: RuntimeWarning: invalid value encountered in divide\n",
      "  f = msb / msw\n"
     ]
    },
    {
     "name": "stdout",
     "output_type": "stream",
     "text": [
      "Testing Accuracy:  0.9316239316239316\n",
      "Training Accuracy:  0.9892933618843683\n",
      "___________________________________________________________________________________________\n",
      "Number of columns:  350\n"
     ]
    },
    {
     "name": "stderr",
     "output_type": "stream",
     "text": [
      "c:\\Users\\nadip\\anaconda3\\envs\\Test_Environment\\Lib\\site-packages\\sklearn\\feature_selection\\_univariate_selection.py:112: UserWarning: Features [  2   4   7   8   9  10  11  14  15  17  19  20  21  22  25  26  27  28\n",
      "  29  30  31  33  37  38  39  40  41  43  44  45  46  47  48  49  50  51\n",
      "  52  53  54  55  56  57  58  59  60  61  62  63  64  65  66  67  68  69\n",
      "  70  71  72  75  76  77  78  79  80  82  86  88  89  90  92  93  95  96\n",
      "  97 100 106 108 109 110 112 113 115 116 117 118 119 123 125 126 127 129\n",
      " 130 132 133 135 137 138 139 140 141 142 143 144 146 147 150 151 152 154\n",
      " 156 157 159 164 166 167 169 170 172 173 174 175 176 178 179 180 181 182\n",
      " 183 184 185 186 187 189 190 192 193 194 195 199 200 201 203 204 205 206\n",
      " 207 209 210 211 212 213 215 216 217 218 219 220 222 225 226 227 230 235\n",
      " 238 240 241 242 243 244 245 246 247 248 249 250 251 252 256 257 259 260\n",
      " 261 262 263 265 266 267 268 269 272 273 275 277 278 279 284 285 286 287\n",
      " 288 290 292 295 297 298 299 301 302 303 305 307 308 309 314 315 316] are constant.\n",
      "  warnings.warn(\"Features %s are constant.\" % constant_features_idx, UserWarning)\n",
      "c:\\Users\\nadip\\anaconda3\\envs\\Test_Environment\\Lib\\site-packages\\sklearn\\feature_selection\\_univariate_selection.py:113: RuntimeWarning: invalid value encountered in divide\n",
      "  f = msb / msw\n"
     ]
    },
    {
     "name": "stdout",
     "output_type": "stream",
     "text": [
      "Testing Accuracy:  0.9273504273504274\n",
      "Training Accuracy:  0.9892933618843683\n",
      "___________________________________________________________________________________________\n",
      "Number of columns:  400\n"
     ]
    },
    {
     "name": "stderr",
     "output_type": "stream",
     "text": [
      "c:\\Users\\nadip\\anaconda3\\envs\\Test_Environment\\Lib\\site-packages\\sklearn\\feature_selection\\_univariate_selection.py:112: UserWarning: Features [  2   4   7   8   9  10  11  14  15  17  19  20  21  22  25  26  27  28\n",
      "  29  30  31  33  37  38  39  40  41  43  44  45  46  47  48  49  50  51\n",
      "  52  53  54  55  56  57  58  59  60  61  62  63  64  65  66  67  68  69\n",
      "  70  71  72  75  76  77  78  79  80  82  86  88  89  90  92  93  95  96\n",
      "  97 100 106 108 109 110 112 113 115 116 117 118 119 123 125 126 127 129\n",
      " 130 132 133 135 137 138 139 140 141 142 143 144 146 147 150 151 152 154\n",
      " 156 157 159 164 166 167 169 170 172 173 174 175 176 178 179 180 181 182\n",
      " 183 184 185 186 187 189 190 192 193 194 195 199 200 201 203 204 205 206\n",
      " 207 209 210 211 212 213 215 216 217 218 219 220 222 225 226 227 230 235\n",
      " 238 240 241 242 243 244 245 246 247 248 249 250 251 252 256 257 259 260\n",
      " 261 262 263 265 266 267 268 269 272 273 275 277 278 279 284 285 286 287\n",
      " 288 290 292 295 297 298 299 301 302 303 305 307 308 309 314 315 316] are constant.\n",
      "  warnings.warn(\"Features %s are constant.\" % constant_features_idx, UserWarning)\n",
      "c:\\Users\\nadip\\anaconda3\\envs\\Test_Environment\\Lib\\site-packages\\sklearn\\feature_selection\\_univariate_selection.py:113: RuntimeWarning: invalid value encountered in divide\n",
      "  f = msb / msw\n"
     ]
    },
    {
     "name": "stdout",
     "output_type": "stream",
     "text": [
      "Testing Accuracy:  0.9273504273504274\n",
      "Training Accuracy:  0.9892933618843683\n",
      "___________________________________________________________________________________________\n",
      "Number of columns:  450\n"
     ]
    },
    {
     "name": "stderr",
     "output_type": "stream",
     "text": [
      "c:\\Users\\nadip\\anaconda3\\envs\\Test_Environment\\Lib\\site-packages\\sklearn\\feature_selection\\_univariate_selection.py:112: UserWarning: Features [  2   4   7   8   9  10  11  14  15  17  19  20  21  22  25  26  27  28\n",
      "  29  30  31  33  37  38  39  40  41  43  44  45  46  47  48  49  50  51\n",
      "  52  53  54  55  56  57  58  59  60  61  62  63  64  65  66  67  68  69\n",
      "  70  71  72  75  76  77  78  79  80  82  86  88  89  90  92  93  95  96\n",
      "  97 100 106 108 109 110 112 113 115 116 117 118 119 123 125 126 127 129\n",
      " 130 132 133 135 137 138 139 140 141 142 143 144 146 147 150 151 152 154\n",
      " 156 157 159 164 166 167 169 170 172 173 174 175 176 178 179 180 181 182\n",
      " 183 184 185 186 187 189 190 192 193 194 195 199 200 201 203 204 205 206\n",
      " 207 209 210 211 212 213 215 216 217 218 219 220 222 225 226 227 230 235\n",
      " 238 240 241 242 243 244 245 246 247 248 249 250 251 252 256 257 259 260\n",
      " 261 262 263 265 266 267 268 269 272 273 275 277 278 279 284 285 286 287\n",
      " 288 290 292 295 297 298 299 301 302 303 305 307 308 309 314 315 316] are constant.\n",
      "  warnings.warn(\"Features %s are constant.\" % constant_features_idx, UserWarning)\n",
      "c:\\Users\\nadip\\anaconda3\\envs\\Test_Environment\\Lib\\site-packages\\sklearn\\feature_selection\\_univariate_selection.py:113: RuntimeWarning: invalid value encountered in divide\n",
      "  f = msb / msw\n"
     ]
    },
    {
     "name": "stdout",
     "output_type": "stream",
     "text": [
      "Testing Accuracy:  0.9316239316239316\n",
      "Training Accuracy:  0.9892933618843683\n",
      "___________________________________________________________________________________________\n",
      "Number of columns:  500\n"
     ]
    },
    {
     "name": "stderr",
     "output_type": "stream",
     "text": [
      "c:\\Users\\nadip\\anaconda3\\envs\\Test_Environment\\Lib\\site-packages\\sklearn\\feature_selection\\_univariate_selection.py:112: UserWarning: Features [  2   4   7   8   9  10  11  14  15  17  19  20  21  22  25  26  27  28\n",
      "  29  30  31  33  37  38  39  40  41  43  44  45  46  47  48  49  50  51\n",
      "  52  53  54  55  56  57  58  59  60  61  62  63  64  65  66  67  68  69\n",
      "  70  71  72  75  76  77  78  79  80  82  86  88  89  90  92  93  95  96\n",
      "  97 100 106 108 109 110 112 113 115 116 117 118 119 123 125 126 127 129\n",
      " 130 132 133 135 137 138 139 140 141 142 143 144 146 147 150 151 152 154\n",
      " 156 157 159 164 166 167 169 170 172 173 174 175 176 178 179 180 181 182\n",
      " 183 184 185 186 187 189 190 192 193 194 195 199 200 201 203 204 205 206\n",
      " 207 209 210 211 212 213 215 216 217 218 219 220 222 225 226 227 230 235\n",
      " 238 240 241 242 243 244 245 246 247 248 249 250 251 252 256 257 259 260\n",
      " 261 262 263 265 266 267 268 269 272 273 275 277 278 279 284 285 286 287\n",
      " 288 290 292 295 297 298 299 301 302 303 305 307 308 309 314 315 316] are constant.\n",
      "  warnings.warn(\"Features %s are constant.\" % constant_features_idx, UserWarning)\n",
      "c:\\Users\\nadip\\anaconda3\\envs\\Test_Environment\\Lib\\site-packages\\sklearn\\feature_selection\\_univariate_selection.py:113: RuntimeWarning: invalid value encountered in divide\n",
      "  f = msb / msw\n"
     ]
    },
    {
     "name": "stdout",
     "output_type": "stream",
     "text": [
      "Testing Accuracy:  0.9316239316239316\n",
      "Training Accuracy:  0.9892933618843683\n",
      "___________________________________________________________________________________________\n",
      "Number of columns:  550\n"
     ]
    },
    {
     "name": "stderr",
     "output_type": "stream",
     "text": [
      "c:\\Users\\nadip\\anaconda3\\envs\\Test_Environment\\Lib\\site-packages\\sklearn\\feature_selection\\_univariate_selection.py:112: UserWarning: Features [  2   4   7   8   9  10  11  14  15  17  19  20  21  22  25  26  27  28\n",
      "  29  30  31  33  37  38  39  40  41  43  44  45  46  47  48  49  50  51\n",
      "  52  53  54  55  56  57  58  59  60  61  62  63  64  65  66  67  68  69\n",
      "  70  71  72  75  76  77  78  79  80  82  86  88  89  90  92  93  95  96\n",
      "  97 100 106 108 109 110 112 113 115 116 117 118 119 123 125 126 127 129\n",
      " 130 132 133 135 137 138 139 140 141 142 143 144 146 147 150 151 152 154\n",
      " 156 157 159 164 166 167 169 170 172 173 174 175 176 178 179 180 181 182\n",
      " 183 184 185 186 187 189 190 192 193 194 195 199 200 201 203 204 205 206\n",
      " 207 209 210 211 212 213 215 216 217 218 219 220 222 225 226 227 230 235\n",
      " 238 240 241 242 243 244 245 246 247 248 249 250 251 252 256 257 259 260\n",
      " 261 262 263 265 266 267 268 269 272 273 275 277 278 279 284 285 286 287\n",
      " 288 290 292 295 297 298 299 301 302 303 305 307 308 309 314 315 316] are constant.\n",
      "  warnings.warn(\"Features %s are constant.\" % constant_features_idx, UserWarning)\n",
      "c:\\Users\\nadip\\anaconda3\\envs\\Test_Environment\\Lib\\site-packages\\sklearn\\feature_selection\\_univariate_selection.py:113: RuntimeWarning: invalid value encountered in divide\n",
      "  f = msb / msw\n"
     ]
    },
    {
     "name": "stdout",
     "output_type": "stream",
     "text": [
      "Testing Accuracy:  0.9230769230769231\n",
      "Training Accuracy:  0.9882226980728052\n",
      "___________________________________________________________________________________________\n",
      "Number of columns:  600\n"
     ]
    },
    {
     "name": "stderr",
     "output_type": "stream",
     "text": [
      "c:\\Users\\nadip\\anaconda3\\envs\\Test_Environment\\Lib\\site-packages\\sklearn\\feature_selection\\_univariate_selection.py:112: UserWarning: Features [  2   4   7   8   9  10  11  14  15  17  19  20  21  22  25  26  27  28\n",
      "  29  30  31  33  37  38  39  40  41  43  44  45  46  47  48  49  50  51\n",
      "  52  53  54  55  56  57  58  59  60  61  62  63  64  65  66  67  68  69\n",
      "  70  71  72  75  76  77  78  79  80  82  86  88  89  90  92  93  95  96\n",
      "  97 100 106 108 109 110 112 113 115 116 117 118 119 123 125 126 127 129\n",
      " 130 132 133 135 137 138 139 140 141 142 143 144 146 147 150 151 152 154\n",
      " 156 157 159 164 166 167 169 170 172 173 174 175 176 178 179 180 181 182\n",
      " 183 184 185 186 187 189 190 192 193 194 195 199 200 201 203 204 205 206\n",
      " 207 209 210 211 212 213 215 216 217 218 219 220 222 225 226 227 230 235\n",
      " 238 240 241 242 243 244 245 246 247 248 249 250 251 252 256 257 259 260\n",
      " 261 262 263 265 266 267 268 269 272 273 275 277 278 279 284 285 286 287\n",
      " 288 290 292 295 297 298 299 301 302 303 305 307 308 309 314 315 316] are constant.\n",
      "  warnings.warn(\"Features %s are constant.\" % constant_features_idx, UserWarning)\n",
      "c:\\Users\\nadip\\anaconda3\\envs\\Test_Environment\\Lib\\site-packages\\sklearn\\feature_selection\\_univariate_selection.py:113: RuntimeWarning: invalid value encountered in divide\n",
      "  f = msb / msw\n"
     ]
    },
    {
     "name": "stdout",
     "output_type": "stream",
     "text": [
      "Testing Accuracy:  0.9273504273504274\n",
      "Training Accuracy:  0.9892933618843683\n",
      "___________________________________________________________________________________________\n",
      "Number of columns:  650\n"
     ]
    },
    {
     "name": "stderr",
     "output_type": "stream",
     "text": [
      "c:\\Users\\nadip\\anaconda3\\envs\\Test_Environment\\Lib\\site-packages\\sklearn\\feature_selection\\_univariate_selection.py:112: UserWarning: Features [  2   4   7   8   9  10  11  14  15  17  19  20  21  22  25  26  27  28\n",
      "  29  30  31  33  37  38  39  40  41  43  44  45  46  47  48  49  50  51\n",
      "  52  53  54  55  56  57  58  59  60  61  62  63  64  65  66  67  68  69\n",
      "  70  71  72  75  76  77  78  79  80  82  86  88  89  90  92  93  95  96\n",
      "  97 100 106 108 109 110 112 113 115 116 117 118 119 123 125 126 127 129\n",
      " 130 132 133 135 137 138 139 140 141 142 143 144 146 147 150 151 152 154\n",
      " 156 157 159 164 166 167 169 170 172 173 174 175 176 178 179 180 181 182\n",
      " 183 184 185 186 187 189 190 192 193 194 195 199 200 201 203 204 205 206\n",
      " 207 209 210 211 212 213 215 216 217 218 219 220 222 225 226 227 230 235\n",
      " 238 240 241 242 243 244 245 246 247 248 249 250 251 252 256 257 259 260\n",
      " 261 262 263 265 266 267 268 269 272 273 275 277 278 279 284 285 286 287\n",
      " 288 290 292 295 297 298 299 301 302 303 305 307 308 309 314 315 316] are constant.\n",
      "  warnings.warn(\"Features %s are constant.\" % constant_features_idx, UserWarning)\n",
      "c:\\Users\\nadip\\anaconda3\\envs\\Test_Environment\\Lib\\site-packages\\sklearn\\feature_selection\\_univariate_selection.py:113: RuntimeWarning: invalid value encountered in divide\n",
      "  f = msb / msw\n"
     ]
    },
    {
     "name": "stdout",
     "output_type": "stream",
     "text": [
      "Testing Accuracy:  0.9273504273504274\n",
      "Training Accuracy:  0.9892933618843683\n",
      "___________________________________________________________________________________________\n",
      "Number of columns:  700\n"
     ]
    },
    {
     "name": "stderr",
     "output_type": "stream",
     "text": [
      "c:\\Users\\nadip\\anaconda3\\envs\\Test_Environment\\Lib\\site-packages\\sklearn\\feature_selection\\_univariate_selection.py:112: UserWarning: Features [  2   4   7   8   9  10  11  14  15  17  19  20  21  22  25  26  27  28\n",
      "  29  30  31  33  37  38  39  40  41  43  44  45  46  47  48  49  50  51\n",
      "  52  53  54  55  56  57  58  59  60  61  62  63  64  65  66  67  68  69\n",
      "  70  71  72  75  76  77  78  79  80  82  86  88  89  90  92  93  95  96\n",
      "  97 100 106 108 109 110 112 113 115 116 117 118 119 123 125 126 127 129\n",
      " 130 132 133 135 137 138 139 140 141 142 143 144 146 147 150 151 152 154\n",
      " 156 157 159 164 166 167 169 170 172 173 174 175 176 178 179 180 181 182\n",
      " 183 184 185 186 187 189 190 192 193 194 195 199 200 201 203 204 205 206\n",
      " 207 209 210 211 212 213 215 216 217 218 219 220 222 225 226 227 230 235\n",
      " 238 240 241 242 243 244 245 246 247 248 249 250 251 252 256 257 259 260\n",
      " 261 262 263 265 266 267 268 269 272 273 275 277 278 279 284 285 286 287\n",
      " 288 290 292 295 297 298 299 301 302 303 305 307 308 309 314 315 316] are constant.\n",
      "  warnings.warn(\"Features %s are constant.\" % constant_features_idx, UserWarning)\n",
      "c:\\Users\\nadip\\anaconda3\\envs\\Test_Environment\\Lib\\site-packages\\sklearn\\feature_selection\\_univariate_selection.py:113: RuntimeWarning: invalid value encountered in divide\n",
      "  f = msb / msw\n"
     ]
    },
    {
     "name": "stdout",
     "output_type": "stream",
     "text": [
      "Testing Accuracy:  0.9273504273504274\n",
      "Training Accuracy:  0.9892933618843683\n",
      "___________________________________________________________________________________________\n",
      "Number of columns:  750\n"
     ]
    },
    {
     "name": "stderr",
     "output_type": "stream",
     "text": [
      "c:\\Users\\nadip\\anaconda3\\envs\\Test_Environment\\Lib\\site-packages\\sklearn\\feature_selection\\_univariate_selection.py:112: UserWarning: Features [  2   4   7   8   9  10  11  14  15  17  19  20  21  22  25  26  27  28\n",
      "  29  30  31  33  37  38  39  40  41  43  44  45  46  47  48  49  50  51\n",
      "  52  53  54  55  56  57  58  59  60  61  62  63  64  65  66  67  68  69\n",
      "  70  71  72  75  76  77  78  79  80  82  86  88  89  90  92  93  95  96\n",
      "  97 100 106 108 109 110 112 113 115 116 117 118 119 123 125 126 127 129\n",
      " 130 132 133 135 137 138 139 140 141 142 143 144 146 147 150 151 152 154\n",
      " 156 157 159 164 166 167 169 170 172 173 174 175 176 178 179 180 181 182\n",
      " 183 184 185 186 187 189 190 192 193 194 195 199 200 201 203 204 205 206\n",
      " 207 209 210 211 212 213 215 216 217 218 219 220 222 225 226 227 230 235\n",
      " 238 240 241 242 243 244 245 246 247 248 249 250 251 252 256 257 259 260\n",
      " 261 262 263 265 266 267 268 269 272 273 275 277 278 279 284 285 286 287\n",
      " 288 290 292 295 297 298 299 301 302 303 305 307 308 309 314 315 316] are constant.\n",
      "  warnings.warn(\"Features %s are constant.\" % constant_features_idx, UserWarning)\n",
      "c:\\Users\\nadip\\anaconda3\\envs\\Test_Environment\\Lib\\site-packages\\sklearn\\feature_selection\\_univariate_selection.py:113: RuntimeWarning: invalid value encountered in divide\n",
      "  f = msb / msw\n"
     ]
    },
    {
     "name": "stdout",
     "output_type": "stream",
     "text": [
      "Testing Accuracy:  0.9273504273504274\n",
      "Training Accuracy:  0.9925053533190579\n",
      "___________________________________________________________________________________________\n",
      "Number of columns:  800\n"
     ]
    },
    {
     "name": "stderr",
     "output_type": "stream",
     "text": [
      "c:\\Users\\nadip\\anaconda3\\envs\\Test_Environment\\Lib\\site-packages\\sklearn\\feature_selection\\_univariate_selection.py:112: UserWarning: Features [  2   4   7   8   9  10  11  14  15  17  19  20  21  22  25  26  27  28\n",
      "  29  30  31  33  37  38  39  40  41  43  44  45  46  47  48  49  50  51\n",
      "  52  53  54  55  56  57  58  59  60  61  62  63  64  65  66  67  68  69\n",
      "  70  71  72  75  76  77  78  79  80  82  86  88  89  90  92  93  95  96\n",
      "  97 100 106 108 109 110 112 113 115 116 117 118 119 123 125 126 127 129\n",
      " 130 132 133 135 137 138 139 140 141 142 143 144 146 147 150 151 152 154\n",
      " 156 157 159 164 166 167 169 170 172 173 174 175 176 178 179 180 181 182\n",
      " 183 184 185 186 187 189 190 192 193 194 195 199 200 201 203 204 205 206\n",
      " 207 209 210 211 212 213 215 216 217 218 219 220 222 225 226 227 230 235\n",
      " 238 240 241 242 243 244 245 246 247 248 249 250 251 252 256 257 259 260\n",
      " 261 262 263 265 266 267 268 269 272 273 275 277 278 279 284 285 286 287\n",
      " 288 290 292 295 297 298 299 301 302 303 305 307 308 309 314 315 316] are constant.\n",
      "  warnings.warn(\"Features %s are constant.\" % constant_features_idx, UserWarning)\n",
      "c:\\Users\\nadip\\anaconda3\\envs\\Test_Environment\\Lib\\site-packages\\sklearn\\feature_selection\\_univariate_selection.py:113: RuntimeWarning: invalid value encountered in divide\n",
      "  f = msb / msw\n"
     ]
    },
    {
     "name": "stdout",
     "output_type": "stream",
     "text": [
      "Testing Accuracy:  0.9273504273504274\n",
      "Training Accuracy:  0.9925053533190579\n",
      "___________________________________________________________________________________________\n",
      "Number of columns:  850\n"
     ]
    },
    {
     "name": "stderr",
     "output_type": "stream",
     "text": [
      "c:\\Users\\nadip\\anaconda3\\envs\\Test_Environment\\Lib\\site-packages\\sklearn\\feature_selection\\_univariate_selection.py:112: UserWarning: Features [  2   4   7   8   9  10  11  14  15  17  19  20  21  22  25  26  27  28\n",
      "  29  30  31  33  37  38  39  40  41  43  44  45  46  47  48  49  50  51\n",
      "  52  53  54  55  56  57  58  59  60  61  62  63  64  65  66  67  68  69\n",
      "  70  71  72  75  76  77  78  79  80  82  86  88  89  90  92  93  95  96\n",
      "  97 100 106 108 109 110 112 113 115 116 117 118 119 123 125 126 127 129\n",
      " 130 132 133 135 137 138 139 140 141 142 143 144 146 147 150 151 152 154\n",
      " 156 157 159 164 166 167 169 170 172 173 174 175 176 178 179 180 181 182\n",
      " 183 184 185 186 187 189 190 192 193 194 195 199 200 201 203 204 205 206\n",
      " 207 209 210 211 212 213 215 216 217 218 219 220 222 225 226 227 230 235\n",
      " 238 240 241 242 243 244 245 246 247 248 249 250 251 252 256 257 259 260\n",
      " 261 262 263 265 266 267 268 269 272 273 275 277 278 279 284 285 286 287\n",
      " 288 290 292 295 297 298 299 301 302 303 305 307 308 309 314 315 316] are constant.\n",
      "  warnings.warn(\"Features %s are constant.\" % constant_features_idx, UserWarning)\n",
      "c:\\Users\\nadip\\anaconda3\\envs\\Test_Environment\\Lib\\site-packages\\sklearn\\feature_selection\\_univariate_selection.py:113: RuntimeWarning: invalid value encountered in divide\n",
      "  f = msb / msw\n"
     ]
    },
    {
     "name": "stdout",
     "output_type": "stream",
     "text": [
      "Testing Accuracy:  0.9273504273504274\n",
      "Training Accuracy:  0.9903640256959315\n",
      "___________________________________________________________________________________________\n",
      "Number of columns:  900\n"
     ]
    },
    {
     "name": "stderr",
     "output_type": "stream",
     "text": [
      "c:\\Users\\nadip\\anaconda3\\envs\\Test_Environment\\Lib\\site-packages\\sklearn\\feature_selection\\_univariate_selection.py:112: UserWarning: Features [  2   4   7   8   9  10  11  14  15  17  19  20  21  22  25  26  27  28\n",
      "  29  30  31  33  37  38  39  40  41  43  44  45  46  47  48  49  50  51\n",
      "  52  53  54  55  56  57  58  59  60  61  62  63  64  65  66  67  68  69\n",
      "  70  71  72  75  76  77  78  79  80  82  86  88  89  90  92  93  95  96\n",
      "  97 100 106 108 109 110 112 113 115 116 117 118 119 123 125 126 127 129\n",
      " 130 132 133 135 137 138 139 140 141 142 143 144 146 147 150 151 152 154\n",
      " 156 157 159 164 166 167 169 170 172 173 174 175 176 178 179 180 181 182\n",
      " 183 184 185 186 187 189 190 192 193 194 195 199 200 201 203 204 205 206\n",
      " 207 209 210 211 212 213 215 216 217 218 219 220 222 225 226 227 230 235\n",
      " 238 240 241 242 243 244 245 246 247 248 249 250 251 252 256 257 259 260\n",
      " 261 262 263 265 266 267 268 269 272 273 275 277 278 279 284 285 286 287\n",
      " 288 290 292 295 297 298 299 301 302 303 305 307 308 309 314 315 316] are constant.\n",
      "  warnings.warn(\"Features %s are constant.\" % constant_features_idx, UserWarning)\n",
      "c:\\Users\\nadip\\anaconda3\\envs\\Test_Environment\\Lib\\site-packages\\sklearn\\feature_selection\\_univariate_selection.py:113: RuntimeWarning: invalid value encountered in divide\n",
      "  f = msb / msw\n"
     ]
    },
    {
     "name": "stdout",
     "output_type": "stream",
     "text": [
      "Testing Accuracy:  0.9316239316239316\n",
      "Training Accuracy:  0.9892933618843683\n",
      "___________________________________________________________________________________________\n"
     ]
    }
   ],
   "source": [
    "import numpy as np\n",
    "import pandas as pd\n",
    "from sklearn.datasets import make_regression\n",
    "from sklearn.feature_selection import SelectKBest, f_classif\n",
    "from sklearn.ensemble import GradientBoostingClassifier\n",
    "from sklearn.metrics import accuracy_score\n",
    "from sklearn.model_selection import train_test_split\n",
    "\n",
    "def anova_selection(X, y, num_of_feat):\n",
    "    fs = SelectKBest(score_func=f_classif, k=num_of_feat)\n",
    "    fit = fs.fit(X, y)\n",
    "\n",
    "    dfscores = pd.DataFrame(fit.scores_)\n",
    "    dfcolumns = pd.DataFrame(X.columns)\n",
    "    featureScores = pd.concat([dfcolumns, dfscores], axis=1)\n",
    "    featureScores.columns = ['Best_columns', 'Score_anova']\n",
    "\n",
    "    lyst = featureScores.nlargest(num_of_feat, 'Score_anova')\n",
    "\n",
    "    anova_features = list(lyst['Best_columns'])\n",
    "    return anova_features\n",
    "\n",
    "# Load your dataset\n",
    "df = pd.read_csv(\"permission-based_malware_2.csv\")\n",
    "target = \"CLASS\"\n",
    "\n",
    "X = df.loc[:, df.columns != target]\n",
    "X = X.loc[:, X.columns != \"NAME\"]\n",
    "y = df[target]\n",
    "\n",
    "# Iterate over different numbers of features\n",
    "for i in range(50, len(X.columns), 50):\n",
    "    print(\"Number of columns: \", i)\n",
    "    anova_list = anova_selection(X, y, i)\n",
    "\n",
    "    X_ = df.loc[:, anova_list]\n",
    "    y_ = df[target]\n",
    "\n",
    "    X_train, X_test, y_train, y_test = train_test_split(X_, y_, test_size=0.2, random_state=0)\n",
    "\n",
    "    gbc = GradientBoostingClassifier(n_estimators=186, max_depth=6, random_state=0)\n",
    "    gbc.fit(X_train, y_train)\n",
    "    \n",
    "    y_pred_test = gbc.predict(X_test)\n",
    "    print(\"Testing Accuracy: \", accuracy_score(y_test, y_pred_test))\n",
    "    \n",
    "    y_pred_train = gbc.predict(X_train)\n",
    "    print(\"Training Accuracy: \", accuracy_score(y_train, y_pred_train))\n",
    "    print(\"___________________________________________________________________________________________\")"
   ]
  },
  {
   "cell_type": "markdown",
   "metadata": {},
   "source": [
    "## Function Call"
   ]
  },
  {
   "cell_type": "code",
   "execution_count": 8,
   "metadata": {},
   "outputs": [
    {
     "name": "stderr",
     "output_type": "stream",
     "text": [
      "c:\\Users\\nadip\\anaconda3\\envs\\Test_Environment\\Lib\\site-packages\\sklearn\\feature_selection\\_univariate_selection.py:112: UserWarning: Features [  2   4   7   8   9  10  11  14  15  17  19  20  21  22  25  26  27  28\n",
      "  29  30  31  33  37  38  39  40  41  43  44  45  46  47  48  49  50  51\n",
      "  52  53  54  55  56  57  58  59  60  61  62  63  64  65  66  67  68  69\n",
      "  70  71  72  75  76  77  78  79  80  82  86  88  89  90  92  93  95  96\n",
      "  97 100 106 108 109 110 112 113 115 116 117 118 119 123 125 126 127 129\n",
      " 130 132 133 135 137 138 139 140 141 142 143 144 146 147 150 151 152 154\n",
      " 156 157 159 164 166 167 169 170 172 173 174 175 176 178 179 180 181 182\n",
      " 183 184 185 186 187 189 190 192 193 194 195 199 200 201 203 204 205 206\n",
      " 207 209 210 211 212 213 215 216 217 218 219 220 222 225 226 227 230 235\n",
      " 238 240 241 242 243 244 245 246 247 248 249 250 251 252 256 257 259 260\n",
      " 261 262 263 265 266 267 268 269 272 273 275 277 278 279 284 285 286 287\n",
      " 288 290 292 295 297 298 299 301 302 303 305 307 308 309 314 315 316] are constant.\n",
      "  warnings.warn(\"Features %s are constant.\" % constant_features_idx, UserWarning)\n",
      "c:\\Users\\nadip\\anaconda3\\envs\\Test_Environment\\Lib\\site-packages\\sklearn\\feature_selection\\_univariate_selection.py:113: RuntimeWarning: invalid value encountered in divide\n",
      "  f = msb / msw\n"
     ]
    },
    {
     "data": {
      "text/plain": [
       "['android.permission.SEND_SMS',\n",
       " 'android.permission.RECEIVE_SMS',\n",
       " 'android.permission.READ_SMS',\n",
       " 'android.permission.RECEIVE_BOOT_COMPLETED',\n",
       " 'android.permission.READ_PHONE_STATE',\n",
       " 'android.permission.SYSTEM_ALERT_WINDOW',\n",
       " 'android.permission.WRITE_SMS',\n",
       " 'android.permission.CHANGE_NETWORK_STATE',\n",
       " 'android.permission.GET_TASKS',\n",
       " 'android.permission.READ_CONTACTS',\n",
       " 'android.permission.FOREGROUND_SERVICE',\n",
       " 'android.permission.CHANGE_WIFI_STATE',\n",
       " 'android.permission.CALL_PHONE',\n",
       " 'android.permission.DISABLE_KEYGUARD',\n",
       " 'android.permission.WRITE_SETTINGS',\n",
       " 'android.permission.WAKE_LOCK',\n",
       " 'android.permission.REQUEST_IGNORE_BATTERY_OPTIMIZATIONS',\n",
       " 'android.permission.REQUEST_DELETE_PACKAGES',\n",
       " 'com.android.vending.BILLING',\n",
       " 'android.permission.INSTALL_PACKAGES',\n",
       " 'android.permission.MOUNT_UNMOUNT_FILESYSTEMS',\n",
       " 'android.permission.ACTION_MANAGE_OVERLAY_PERMISSION',\n",
       " 'com.google.android.c2dm.permission.RECEIVE',\n",
       " 'android.permission.ACCESS_WIFI_STATE',\n",
       " 'com.google.android.finsky.permission.BIND_GET_INSTALL_REFERRER_SERVICE',\n",
       " 'android.permission.KILL_BACKGROUND_PROCESSES',\n",
       " 'android.permission.QUERY_ALL_PACKAGES',\n",
       " 'com.google.android.providers.gsf.permission.READ_GSERVICES',\n",
       " 'android.permission.REQUEST_INSTALL_PACKAGES',\n",
       " 'android.permission.QUICKBOOT_POWERON',\n",
       " 'android.permission.GET_PACKAGE_SIZE',\n",
       " 'com.android.launcher.permission.UNINSTALL_SHORTCUT',\n",
       " 'android.permission.PROCESS_OUTGOING_CALLS',\n",
       " 'android.permission.SYSTEM_OVERLAY_WINDOW',\n",
       " 'android.permission.RECEIVE_MMS',\n",
       " 'android.permission.DELETE_PACKAGES',\n",
       " 'com.android.launcher.permission.INSTALL_SHORTCUT',\n",
       " 'android.permission.REORDER_TASKS',\n",
       " 'android.permission.CHANGE_CONFIGURATION',\n",
       " 'android.permission.PACKAGE_USAGE_STATS',\n",
       " 'android.permission.WRITE_APN_SETTINGS',\n",
       " 'android.permission.READ_PHONE_NUMBERS',\n",
       " 'android.permission.ACCESS_NOTIFICATION_POLICY',\n",
       " 'android.permission.RECEIVE_LAUNCH_BROADCASTS',\n",
       " 'android.permission.RESTART_PACKAGES',\n",
       " 'com.android.browser.permission.READ_HISTORY_BOOKMARKS',\n",
       " 'android.permission.WRITE_SECURE_SETTINGS',\n",
       " 'com.huawei.android.launcher.permission.READ_SETTINGS',\n",
       " 'android.permission.USE_CREDENTIALS',\n",
       " 'android.permission.ACCESS_DOWNLOAD_MANAGER',\n",
       " 'com.huawei.android.launcher.permission.WRITE_SETTINGS',\n",
       " 'android.permission.ACCESS_MTK_MMHW',\n",
       " 'android.permission.READ_EXTERNAL_STORAGE',\n",
       " 'com.android.launcher.permission.READ_SETTINGS',\n",
       " 'android.permission.READ_SETTINGS',\n",
       " 'android.permission.RECEIVE_USER_PRESENT',\n",
       " 'android.permission.WRITE_CONTACTS',\n",
       " 'android.permission.CALL_PRIVILEGED',\n",
       " 'com.htc.launcher.permission.READ_SETTINGS',\n",
       " 'com.oppo.launcher.permission.READ_SETTINGS',\n",
       " 'android.permission.GET_ACCOUNTS',\n",
       " 'com.oppo.launcher.permission.WRITE_SETTINGS',\n",
       " 'android.permission.READ_LOGS',\n",
       " 'me.everything.badger.permission.BADGE_COUNT_READ',\n",
       " 'me.everything.badger.permission.BADGE_COUNT_WRITE',\n",
       " 'android.permission.BROADCAST_SMS',\n",
       " 'android.permission.ACCESS_WAKE_LOCK',\n",
       " 'android.permission.ACCESS_BACKGROUND_LOCATION',\n",
       " 'com.huawei.android.launcher.permission.CHANGE_BADGE',\n",
       " 'com.google.android.gms.permission.AD_ID',\n",
       " 'android.permission.USES_POLICY_FORCE_LOCK',\n",
       " 'android.intent.action.BOOT_COMPLETED',\n",
       " 'android.permission.CLEAR_APP_CACHE',\n",
       " 'com.google.android.launcher.permission.READ_SETTINGS',\n",
       " 'com.sonymobile.home.permission.PROVIDER_INSERT_BADGE',\n",
       " 'android.permission.CAPTURE_VIDEO_OUTPUT',\n",
       " 'com.android.permission.UNINSTALL_SHORTCUT',\n",
       " 'android.permission.MODIFY_AUDIO_SETTINGS',\n",
       " 'android.permission.MODIFY_PHONE_STATE',\n",
       " 'android.permission.READ_APP_BADGE',\n",
       " 'android.permission.REAL_GET_TASKS',\n",
       " 'android.provider.Telephony.SMS_RECEIVED',\n",
       " 'android.permission.BATTERY_STATS',\n",
       " 'com.majeur.launcher.permission.UPDATE_BADGE',\n",
       " 'com.qihoo360.home.permission.READ_SETTINGS',\n",
       " 'com.sonymobile.home.permission.PROVIDER_ACCESS_MODIFY_CONFIGURATION',\n",
       " 'android.Manifest.permission.READ_PHONE_STATE',\n",
       " 'com.google.android.launcher.permission.WRITE_SETTINGS',\n",
       " 'com.qihoo360.home.permission.WRITE_SETTINGS',\n",
       " 'android.permissoon.READ_PHONE_STATE',\n",
       " 'android.permission.INTERNET',\n",
       " 'android.permission.REQUEST_COMPANION_USE_DATA_IN_BACKGROUND',\n",
       " 'android.permission.REQUEST_COMPANION_RUN_IN_BACKGROUND',\n",
       " 'android.permission.STATUS_BAR',\n",
       " 'com.android.launcher2.permission.READ_SETTINGS',\n",
       " 'com.android.launcher2.permission.WRITE_SETTINGS',\n",
       " 'android.permission.READ_PRIVILEGED_PHONE_STATE',\n",
       " 'android.permission.MANAGE_ACCOUNTS',\n",
       " 'com.anddoes.launcher.permission.UPDATE_COUNT',\n",
       " 'com.sec.android.provider.badge.permission.WRITE',\n",
       " 'android.permission.READ_CALL_LOG',\n",
       " 'android.permission.ACCESS_COARSE_UPDATES',\n",
       " 'android.permission.ADD_VOICEMAIL',\n",
       " 'android.permission.RUN_INSTRUMENTATION',\n",
       " 'com.htc.launcher.permission.UPDATE_SHORTCUT',\n",
       " 'com.sec.android.provider.badge.permission.READ',\n",
       " 'com.sonyericsson.home.permission.BROADCAST_BADGE',\n",
       " 'android.permission.DEVICE_POWER',\n",
       " 'android.permission.UPDATE_DEVICE_STATS',\n",
       " 'android.permission.USE_FULL_SCREEN_INTENT',\n",
       " 'android.permission.USE_FINGERPRINT',\n",
       " 'android.permission.RECORD_AUDIO',\n",
       " 'android.permission.ACCESS_CORSE_LOCATION',\n",
       " 'android.permission.MOUNT_FORMAT_FILESYSTEMS',\n",
       " 'android.permission.ADD_SYSTEM_SERVICE',\n",
       " 'com.motorola.launcher.permission.READ_SETTINGS',\n",
       " 'android.permission.WRITE_SECURE',\n",
       " 'com.motorola.launcher.permission.INSTALL_SHORTCUT',\n",
       " 'com.saavn.android.permission.C2D_MESSAGE',\n",
       " 'com.motorola.dlauncher.permission.READ_SETTINGS',\n",
       " 'com.motorola.dlauncher.permission.INSTALL_SHORTCUT',\n",
       " 'android.permission.INTERACT_ACROSS_USERS_FULL',\n",
       " 'android.permission.BROADCAST_PACKAGE_ADDED',\n",
       " 'com.google.android.gms.permission.ACTIVITY_RECOGNITION',\n",
       " 'android.permission.BLUETOOTH',\n",
       " 'android.permission.ACCESS_WIMAX_STATE',\n",
       " 'android.permission.CHANGE_WIMAX_STATE',\n",
       " 'android.permission.GET_CLIPS',\n",
       " 'android.permission.WRITE_CLIPS',\n",
       " 'com.lge.launcher.permission.INSTALL_SHORTCUT',\n",
       " 'android.permission.ACCESS_COARSE_LOCATION',\n",
       " 'com.android.browser.permission.WRITE_HISTORY_BOOKMARKS',\n",
       " 'android.permission.INSTALL_SHORTCUT',\n",
       " 'com.android.launcher.permission.WRITE_SETTINGS',\n",
       " 'android.permission.BROADCAST_PACKAGE_INSTALL',\n",
       " 'android.permission.BROADCAST_PACKAGE_REPLACED',\n",
       " 'android.permission.READ_FRAME_BUFFER',\n",
       " 'com.amazon.device.messaging.permission.RECEIVE',\n",
       " 'android.permission.BLUETOOTH_ADMIN',\n",
       " 'android.permission.BROADCAST_WAP_PUSH',\n",
       " 'android.permission.CONTROL_LOCATION_UPDATES',\n",
       " 'android.permission.READ_INSTALL_SESSIONS',\n",
       " 'android.permission.SET_TIME_ZONE',\n",
       " 'android.permission.TRANSMIT_IR',\n",
       " 'com.google.android.googleapps.permission.GOOGLE_AUTH.speech',\n",
       " 'com.google.android.googleapps.permission.GOOGLE_AUTH.mobile',\n",
       " 'com.google.android.googleapps.permission.GOOGLE_AUTH.cp',\n",
       " 'com.google.android.googleapps.permission.GOOGLE_AUTH.youtube',\n",
       " 'com.google.android.googleapps.permission.GOOGLE_AUTH.wise',\n",
       " 'com.google.android.googleapps.permission.GOOGLE_AUTH.orkut',\n",
       " 'android.permission.ANSWER_PHONE_CALLS',\n",
       " 'com.google.android.googleapps.permission.GOOGLE_AUTH.sierrasandbox',\n",
       " 'com.google.android.googleapps.permission.GOOGLE_AUTH.cl',\n",
       " 'com.google.android.providers.talk.permission.WRITE_ONLY',\n",
       " 'com.google.android.googleapps.permission.GOOGLE_AUTH.writely',\n",
       " 'com.google.android.googleapps.permission.GOOGLE_AUTH.adwords',\n",
       " 'com.google.android.googleapps.permission.GOOGLE_AUTH.health',\n",
       " 'com.google.android.googleapps.permission.GOOGLE_AUTH.wifi',\n",
       " 'com.qihoo.appstore.rtservice.ACCESS_RTSERVICE',\n",
       " 'com.google.android.googleapps.permission.GOOGLE_AUTH.OTHER_SERVICES',\n",
       " 'com.google.android.googleapps.permission.GOOGLE_AUTH.speechpersonalization',\n",
       " 'com.google.android.googleapps.permission.GOOGLE_AUTH.notebook',\n",
       " 'com.google.android.googleapps.permission.GOOGLE_AUTH.grandcentral',\n",
       " 'com.google.android.googleapps.permission.GOOGLE_AUTH.androidsecure',\n",
       " 'com.google.android.googleapps.permission.GOOGLE_AUTH.news',\n",
       " 'com.google.android.googleapps.permission.GOOGLE_AUTH.android',\n",
       " 'com.google.android.googleapps.permission.GOOGLE_AUTH.groups2',\n",
       " 'com.google.android.googleapps.permission.GOOGLE_AUTH.knol',\n",
       " 'androd.permission.INSTALL_PACKAGES',\n",
       " 'com.google.android.gms.permission.AD_ID_NOTIFICATION',\n",
       " 'com.google.android.googleapps.permission.GOOGLE_AUTH.ig',\n",
       " 'com.google.android.googleapps.permission.GOOGLE_AUTH.sitemaps',\n",
       " 'com.google.android.googleapps.permission.GOOGLE_AUTH.jotspot',\n",
       " 'rockchip.permission.FULL_SCREEN',\n",
       " 'com.google.android.googleapps.permission.GOOGLE_AUTH.sierra',\n",
       " 'com.google.android.googleapps.permission.GOOGLE_AUTH.adsense',\n",
       " 'com.google.android.googleapps.permission.GOOGLE_AUTH.dodgeball',\n",
       " 'com.android.voicemail.permission.ADD_VOICEMAIL',\n",
       " 'com.google.android.googleapps.permission.GOOGLE_AUTH.talk',\n",
       " 'com.google.android.googleapps.permission.GOOGLE_AUTH.mail',\n",
       " 'com.google.android.providers.talk.permission.READ_ONLY',\n",
       " 'com.google.android.googleapps.permission.GOOGLE_AUTH.ah',\n",
       " 'com.google.android.googleapps.permission.GOOGLE_AUTH.sierraqa',\n",
       " 'com.google.android.googleapps.permission.GOOGLE_AUTH.print',\n",
       " 'android.permission.FOREFGROUND_SERVICE',\n",
       " 'com.google.android.googleapps.permission.GOOGLE_AUTH.gbase',\n",
       " 'android.permission.USE_SIP',\n",
       " 'android.permission.READ_CELL_BROADCASTS',\n",
       " 'com.google.android.googleapps.permission.GOOGLE_AUTH.YouTubeUser',\n",
       " 'android.permission.SET_WALLPAPER_HINTS',\n",
       " 'android.permission.DOWNLOAD_WITHOUT_NOTIFICATION',\n",
       " '.permission.C2D_MESSAGE',\n",
       " 'com.samsung.wmanager.ENABLE_NOTIFICATION',\n",
       " 'com.android.launcher3.permission.WRITE_SETTINGS',\n",
       " 'com.android.alarm.permission.SET_ALARM',\n",
       " 'android.permission.RECEIVE_WAP_PUSH',\n",
       " 'com.samsung.android.providers.context.permission.WRITE_USE_APP_FEATURE_SURVEY',\n",
       " 'com.lge.launcher.permission.READ_SETTINGS',\n",
       " 'android.permission.SET_WALLPAPER',\n",
       " 'android.permission.READ_SYNC_SETTINGS',\n",
       " 'android.permission.READ_HISTORY_BOOKMARKS',\n",
       " 'baidu.push.permission.WRITE_PUSHINFOPROVIDER.com.yundong.plugin',\n",
       " 'com.yundong.plugin.permission.MIPUSH_RECEIVE',\n",
       " 'com.yundong.plugin.permission.JPUSH_MESSAGE',\n",
       " 'getui.permission.GetuiService.com.yundong.plugin',\n",
       " 'com.android.launcher3.permission.READ_SETTINGS',\n",
       " 'android.permission.EXPAND_STATUS_BAR',\n",
       " 'com.sec.android.iap.permission.BILLING',\n",
       " 'com.sec.android.provider.logsprovider.permission.WRITE_LOGS',\n",
       " 'com.sonyericsson.extras.liveware.aef.EXTENSION_PERMISSION',\n",
       " 'com.sony.smallapp.permission.SMALLAPP',\n",
       " 'com.yotadevices.framework.permission.ACCESS_BACKSCREEN',\n",
       " 'com.sec.android.provider.logsprovider.permission.READ_LOGS',\n",
       " 'com.lenovo.launcher.permission.READ_SETTINGS',\n",
       " 'android.permission.READ_OWNER_DATA',\n",
       " 'android.permission.INTERNAL_SYSTEM_WINDOW',\n",
       " 'android.permission.BROADCAST_PACKAGE_CHANGED',\n",
       " 'android.permission.WRITE_INTERNAL_STORAGE',\n",
       " 'android.permission.WRITE_MEDIA_STORAGE',\n",
       " 'android.permission.ACCESS_FINE_LOCATION',\n",
       " 'android.permission.GET_TOP_ACTIVITY_INFO',\n",
       " 'com.shoujiduoduo.ringtone.permission.MIPUSH_RECEIVE',\n",
       " 'android.permission.CAMERA',\n",
       " 'org.adw.launcher.permission.READ_SETTINGS',\n",
       " 'android.permission.READ_SOCIAL_STREAM',\n",
       " 'android.permission.WRITE_PROFILE',\n",
       " 'android.permission.WRITE_SOCIAL_STREAM',\n",
       " 'android.permission.BODY_SENSORS',\n",
       " 'com.google.android.googleapps.permission.GOOGLE_AUTH.local',\n",
       " 'com.google.android.googleapps.permission.GOOGLE_AUTH.lh2',\n",
       " 'com.google.android.googleapps.permission.GOOGLE_AUTH.blogger',\n",
       " 'com.google.android.googleapps.permission.GOOGLE_AUTH.finance',\n",
       " 'android.permission.PERSISTENT_ACTIVITY',\n",
       " 'android.permission.SEND_DOWNLOAD_COMPLETED_INTENTS',\n",
       " 'com.google.android.providers.gmail.permission.READ_GMAIL',\n",
       " 'android.permission.READ_PROFILE',\n",
       " 'android.permission.LOCAL_MAC_ADDRESS',\n",
       " 'com.meizu.c2dm.permission.RECEIVE',\n",
       " 'cn.swiftpass.wxpay.permission.MM_MESSAGE',\n",
       " 'getui.permission.GetuiService.com.shoujiduoduo.ringtone',\n",
       " 'com.shoujiduoduo.ringtone.permission.C2D_MESSAGE',\n",
       " 'com.shoujiduoduo.ringtone.push.permission.MESSAGE',\n",
       " 'com.miui.mihome2.permission.READ_SETTINGS',\n",
       " 'xvtian.gai.receiver',\n",
       " 'com.sec.android.app.sbrowser.operatorbookmarks.permission.READ_HISTORY_BOOKMARKS',\n",
       " 'com.android.launcher2.permission.UNINSTALL_SHORTCUT',\n",
       " 'com.meizu.flyme.push.permission.RECEIVE',\n",
       " 'com.meizu.stats.permission.WRITE_USAGESTATS',\n",
       " 'com.android.launcher3.permission.UNINSTALL_SHORTCUT',\n",
       " 'com.meizu.stats.permission.READ_USAGESTATS',\n",
       " 'com.miui.mihome2.permission.WRITE_SETTINGS',\n",
       " 'com.huawei.launcher.permission.WRITE_SETTINGS',\n",
       " 'com.android.launcher3.permission.INSTALL_SHORTCUT',\n",
       " 'android.permission.ROOT_RECOVERY_STATE',\n",
       " 'android.permission.REQUEST_INSTALL_PACKAGE',\n",
       " 'cn.swiftpass.wxpay.permission.MMOAUTH_CALLBACK',\n",
       " 'com.huawei.launcher.permission.READ_SETTINGS',\n",
       " 'android.permission.READ_USER_DICTIONARY',\n",
       " 'android.permission.ACCESS_SUPERUSER',\n",
       " 'android.permission.WRITE_OWNER_DATA',\n",
       " 'com.htc.launcher.permission.WRITE_SETTINGS',\n",
       " 'android.permission.FLASHLIGHT',\n",
       " 'android.permission.WRITE_CALL_LOG',\n",
       " 'com.fede.launcher.permission.READ_SETTINGS',\n",
       " 'android.permission.VIBRATE',\n",
       " 'android.permission.SET_PREFERRED_APPLICATIONS',\n",
       " 'com.mobgum.chatgum.permission.C2D_MESSAGE',\n",
       " 'android.permission.NETWORK',\n",
       " 'com.king.cross.kingapp.provider.ACCESS',\n",
       " 'com.google.android.c2dm.permission.REGISTER',\n",
       " 'com.android.gallery3d.permission.GALLERY_PROVIDER',\n",
       " 'com.google.android.c2dm.permission.REGISTRATION',\n",
       " 'com.sonymobile.smartwear.swr30.PERMISSION_CONTROL_EXTENSION',\n",
       " 'android.permission.READ_CALENDAR',\n",
       " 'android.permission.BIND_DEVICE_ADMIN',\n",
       " 'android.permission.BROADCAST_PACKAGE_REMOVED',\n",
       " 'com.motorola.dlauncher.permission.WRITE_SETTINGS',\n",
       " 'com.dotc.ime.latin.flash.permission.C2D_MESSAGE',\n",
       " 'com.android.minion.common.access',\n",
       " 'android.permission.SET_PROCESS_FOREGROUND',\n",
       " 'android.permission.BOOT_COMPLETED',\n",
       " 'getui.permission.GetuiService.com.shouji.ku',\n",
       " 'android.hardware.sensor.accelerometer',\n",
       " 'com.motorola.launcher.permission.WRITE_SETTINGS',\n",
       " 'android.permission.SCHEDULE_EXACT_ALARM',\n",
       " 'android.permission.SUBSCRIBED_FEEDS_READ',\n",
       " 'android.permission.SUBSCRIBED_FEEDS_WRITE',\n",
       " 'android.permission.ACCESS_ASSISTED_GPS',\n",
       " 'android.permission.BROADCAST_STICKY',\n",
       " 'android.permission.ACCESS_NETWORK_STATE',\n",
       " 'android.permission.FORCE_STOP_PACKAGES',\n",
       " 'com.huawei.launcher2.permission.READ_SETTINGS',\n",
       " 'android.permission.RAISED_THREAD_PRIORITY',\n",
       " 'com.lenovo.launcher.permission.WRITE_SETTINGS',\n",
       " 'android.permission.PROCESS_INCOMING_CALLS',\n",
       " 'com.huawei.launcher3.permission.READ_SETTINGS',\n",
       " 'android.permission.USE_BIOMETRIC',\n",
       " 'android.permission.ACCESS_LOCATION_EXTRA_COMMANDS',\n",
       " 'android.permission.BIND_ACCESSIBILITY_SERVICE',\n",
       " 'android.permission.READ_SYNC_STATS']"
      ]
     },
     "execution_count": 8,
     "metadata": {},
     "output_type": "execute_result"
    }
   ],
   "source": [
    "selected_feature_list = anova_selection(X,y,300) \n",
    "selected_feature_list"
   ]
  },
  {
   "cell_type": "code",
   "execution_count": 9,
   "metadata": {},
   "outputs": [],
   "source": [
    "# Selecting only the features that were identified as significant through the Univariate Feature Selection\n",
    "X = df.loc[:,selected_feature_list] # Selects columns from the DataFrame df and stores them in the variable X\n",
    "y = df[target] # Assigns the target variable, which is typically the variable you are trying to predict"
   ]
  },
  {
   "cell_type": "code",
   "execution_count": 10,
   "metadata": {},
   "outputs": [
    {
     "data": {
      "text/html": [
       "<div>\n",
       "<style scoped>\n",
       "    .dataframe tbody tr th:only-of-type {\n",
       "        vertical-align: middle;\n",
       "    }\n",
       "\n",
       "    .dataframe tbody tr th {\n",
       "        vertical-align: top;\n",
       "    }\n",
       "\n",
       "    .dataframe thead th {\n",
       "        text-align: right;\n",
       "    }\n",
       "</style>\n",
       "<table border=\"1\" class=\"dataframe\">\n",
       "  <thead>\n",
       "    <tr style=\"text-align: right;\">\n",
       "      <th></th>\n",
       "      <th>android.permission.SEND_SMS</th>\n",
       "      <th>android.permission.RECEIVE_SMS</th>\n",
       "      <th>android.permission.READ_SMS</th>\n",
       "      <th>android.permission.RECEIVE_BOOT_COMPLETED</th>\n",
       "      <th>android.permission.READ_PHONE_STATE</th>\n",
       "      <th>android.permission.SYSTEM_ALERT_WINDOW</th>\n",
       "      <th>android.permission.WRITE_SMS</th>\n",
       "      <th>android.permission.CHANGE_NETWORK_STATE</th>\n",
       "      <th>android.permission.GET_TASKS</th>\n",
       "      <th>android.permission.READ_CONTACTS</th>\n",
       "      <th>...</th>\n",
       "      <th>android.permission.FORCE_STOP_PACKAGES</th>\n",
       "      <th>com.huawei.launcher2.permission.READ_SETTINGS</th>\n",
       "      <th>android.permission.RAISED_THREAD_PRIORITY</th>\n",
       "      <th>com.lenovo.launcher.permission.WRITE_SETTINGS</th>\n",
       "      <th>android.permission.PROCESS_INCOMING_CALLS</th>\n",
       "      <th>com.huawei.launcher3.permission.READ_SETTINGS</th>\n",
       "      <th>android.permission.USE_BIOMETRIC</th>\n",
       "      <th>android.permission.ACCESS_LOCATION_EXTRA_COMMANDS</th>\n",
       "      <th>android.permission.BIND_ACCESSIBILITY_SERVICE</th>\n",
       "      <th>android.permission.READ_SYNC_STATS</th>\n",
       "    </tr>\n",
       "  </thead>\n",
       "  <tbody>\n",
       "    <tr>\n",
       "      <th>0</th>\n",
       "      <td>1</td>\n",
       "      <td>1</td>\n",
       "      <td>1</td>\n",
       "      <td>1</td>\n",
       "      <td>1</td>\n",
       "      <td>0</td>\n",
       "      <td>1</td>\n",
       "      <td>1</td>\n",
       "      <td>0</td>\n",
       "      <td>1</td>\n",
       "      <td>...</td>\n",
       "      <td>0</td>\n",
       "      <td>0</td>\n",
       "      <td>1</td>\n",
       "      <td>0</td>\n",
       "      <td>0</td>\n",
       "      <td>0</td>\n",
       "      <td>1</td>\n",
       "      <td>0</td>\n",
       "      <td>0</td>\n",
       "      <td>0</td>\n",
       "    </tr>\n",
       "    <tr>\n",
       "      <th>1</th>\n",
       "      <td>0</td>\n",
       "      <td>0</td>\n",
       "      <td>0</td>\n",
       "      <td>0</td>\n",
       "      <td>1</td>\n",
       "      <td>0</td>\n",
       "      <td>0</td>\n",
       "      <td>0</td>\n",
       "      <td>0</td>\n",
       "      <td>1</td>\n",
       "      <td>...</td>\n",
       "      <td>0</td>\n",
       "      <td>0</td>\n",
       "      <td>0</td>\n",
       "      <td>0</td>\n",
       "      <td>0</td>\n",
       "      <td>0</td>\n",
       "      <td>0</td>\n",
       "      <td>0</td>\n",
       "      <td>0</td>\n",
       "      <td>0</td>\n",
       "    </tr>\n",
       "    <tr>\n",
       "      <th>2</th>\n",
       "      <td>0</td>\n",
       "      <td>0</td>\n",
       "      <td>0</td>\n",
       "      <td>0</td>\n",
       "      <td>0</td>\n",
       "      <td>0</td>\n",
       "      <td>0</td>\n",
       "      <td>0</td>\n",
       "      <td>0</td>\n",
       "      <td>0</td>\n",
       "      <td>...</td>\n",
       "      <td>0</td>\n",
       "      <td>0</td>\n",
       "      <td>0</td>\n",
       "      <td>0</td>\n",
       "      <td>0</td>\n",
       "      <td>0</td>\n",
       "      <td>0</td>\n",
       "      <td>0</td>\n",
       "      <td>0</td>\n",
       "      <td>0</td>\n",
       "    </tr>\n",
       "    <tr>\n",
       "      <th>3</th>\n",
       "      <td>0</td>\n",
       "      <td>0</td>\n",
       "      <td>0</td>\n",
       "      <td>0</td>\n",
       "      <td>1</td>\n",
       "      <td>1</td>\n",
       "      <td>0</td>\n",
       "      <td>0</td>\n",
       "      <td>0</td>\n",
       "      <td>0</td>\n",
       "      <td>...</td>\n",
       "      <td>0</td>\n",
       "      <td>0</td>\n",
       "      <td>0</td>\n",
       "      <td>0</td>\n",
       "      <td>0</td>\n",
       "      <td>0</td>\n",
       "      <td>0</td>\n",
       "      <td>0</td>\n",
       "      <td>0</td>\n",
       "      <td>0</td>\n",
       "    </tr>\n",
       "    <tr>\n",
       "      <th>4</th>\n",
       "      <td>0</td>\n",
       "      <td>0</td>\n",
       "      <td>0</td>\n",
       "      <td>0</td>\n",
       "      <td>0</td>\n",
       "      <td>0</td>\n",
       "      <td>0</td>\n",
       "      <td>0</td>\n",
       "      <td>0</td>\n",
       "      <td>0</td>\n",
       "      <td>...</td>\n",
       "      <td>0</td>\n",
       "      <td>0</td>\n",
       "      <td>0</td>\n",
       "      <td>0</td>\n",
       "      <td>0</td>\n",
       "      <td>0</td>\n",
       "      <td>0</td>\n",
       "      <td>0</td>\n",
       "      <td>0</td>\n",
       "      <td>0</td>\n",
       "    </tr>\n",
       "    <tr>\n",
       "      <th>...</th>\n",
       "      <td>...</td>\n",
       "      <td>...</td>\n",
       "      <td>...</td>\n",
       "      <td>...</td>\n",
       "      <td>...</td>\n",
       "      <td>...</td>\n",
       "      <td>...</td>\n",
       "      <td>...</td>\n",
       "      <td>...</td>\n",
       "      <td>...</td>\n",
       "      <td>...</td>\n",
       "      <td>...</td>\n",
       "      <td>...</td>\n",
       "      <td>...</td>\n",
       "      <td>...</td>\n",
       "      <td>...</td>\n",
       "      <td>...</td>\n",
       "      <td>...</td>\n",
       "      <td>...</td>\n",
       "      <td>...</td>\n",
       "      <td>...</td>\n",
       "    </tr>\n",
       "    <tr>\n",
       "      <th>1163</th>\n",
       "      <td>0</td>\n",
       "      <td>0</td>\n",
       "      <td>0</td>\n",
       "      <td>1</td>\n",
       "      <td>1</td>\n",
       "      <td>0</td>\n",
       "      <td>1</td>\n",
       "      <td>0</td>\n",
       "      <td>0</td>\n",
       "      <td>0</td>\n",
       "      <td>...</td>\n",
       "      <td>0</td>\n",
       "      <td>0</td>\n",
       "      <td>0</td>\n",
       "      <td>0</td>\n",
       "      <td>0</td>\n",
       "      <td>0</td>\n",
       "      <td>0</td>\n",
       "      <td>0</td>\n",
       "      <td>0</td>\n",
       "      <td>0</td>\n",
       "    </tr>\n",
       "    <tr>\n",
       "      <th>1164</th>\n",
       "      <td>1</td>\n",
       "      <td>1</td>\n",
       "      <td>1</td>\n",
       "      <td>1</td>\n",
       "      <td>0</td>\n",
       "      <td>1</td>\n",
       "      <td>1</td>\n",
       "      <td>0</td>\n",
       "      <td>1</td>\n",
       "      <td>1</td>\n",
       "      <td>...</td>\n",
       "      <td>0</td>\n",
       "      <td>0</td>\n",
       "      <td>0</td>\n",
       "      <td>0</td>\n",
       "      <td>0</td>\n",
       "      <td>0</td>\n",
       "      <td>0</td>\n",
       "      <td>0</td>\n",
       "      <td>0</td>\n",
       "      <td>0</td>\n",
       "    </tr>\n",
       "    <tr>\n",
       "      <th>1165</th>\n",
       "      <td>1</td>\n",
       "      <td>1</td>\n",
       "      <td>1</td>\n",
       "      <td>1</td>\n",
       "      <td>1</td>\n",
       "      <td>1</td>\n",
       "      <td>1</td>\n",
       "      <td>1</td>\n",
       "      <td>0</td>\n",
       "      <td>1</td>\n",
       "      <td>...</td>\n",
       "      <td>0</td>\n",
       "      <td>0</td>\n",
       "      <td>0</td>\n",
       "      <td>0</td>\n",
       "      <td>0</td>\n",
       "      <td>0</td>\n",
       "      <td>0</td>\n",
       "      <td>0</td>\n",
       "      <td>0</td>\n",
       "      <td>0</td>\n",
       "    </tr>\n",
       "    <tr>\n",
       "      <th>1166</th>\n",
       "      <td>1</td>\n",
       "      <td>1</td>\n",
       "      <td>1</td>\n",
       "      <td>0</td>\n",
       "      <td>1</td>\n",
       "      <td>0</td>\n",
       "      <td>1</td>\n",
       "      <td>0</td>\n",
       "      <td>0</td>\n",
       "      <td>0</td>\n",
       "      <td>...</td>\n",
       "      <td>0</td>\n",
       "      <td>0</td>\n",
       "      <td>0</td>\n",
       "      <td>0</td>\n",
       "      <td>0</td>\n",
       "      <td>0</td>\n",
       "      <td>0</td>\n",
       "      <td>0</td>\n",
       "      <td>0</td>\n",
       "      <td>0</td>\n",
       "    </tr>\n",
       "    <tr>\n",
       "      <th>1167</th>\n",
       "      <td>0</td>\n",
       "      <td>0</td>\n",
       "      <td>1</td>\n",
       "      <td>1</td>\n",
       "      <td>0</td>\n",
       "      <td>1</td>\n",
       "      <td>0</td>\n",
       "      <td>0</td>\n",
       "      <td>0</td>\n",
       "      <td>1</td>\n",
       "      <td>...</td>\n",
       "      <td>0</td>\n",
       "      <td>0</td>\n",
       "      <td>0</td>\n",
       "      <td>0</td>\n",
       "      <td>0</td>\n",
       "      <td>0</td>\n",
       "      <td>0</td>\n",
       "      <td>0</td>\n",
       "      <td>0</td>\n",
       "      <td>0</td>\n",
       "    </tr>\n",
       "  </tbody>\n",
       "</table>\n",
       "<p>1168 rows × 300 columns</p>\n",
       "</div>"
      ],
      "text/plain": [
       "      android.permission.SEND_SMS  android.permission.RECEIVE_SMS  \\\n",
       "0                               1                               1   \n",
       "1                               0                               0   \n",
       "2                               0                               0   \n",
       "3                               0                               0   \n",
       "4                               0                               0   \n",
       "...                           ...                             ...   \n",
       "1163                            0                               0   \n",
       "1164                            1                               1   \n",
       "1165                            1                               1   \n",
       "1166                            1                               1   \n",
       "1167                            0                               0   \n",
       "\n",
       "      android.permission.READ_SMS  android.permission.RECEIVE_BOOT_COMPLETED  \\\n",
       "0                               1                                          1   \n",
       "1                               0                                          0   \n",
       "2                               0                                          0   \n",
       "3                               0                                          0   \n",
       "4                               0                                          0   \n",
       "...                           ...                                        ...   \n",
       "1163                            0                                          1   \n",
       "1164                            1                                          1   \n",
       "1165                            1                                          1   \n",
       "1166                            1                                          0   \n",
       "1167                            1                                          1   \n",
       "\n",
       "      android.permission.READ_PHONE_STATE  \\\n",
       "0                                       1   \n",
       "1                                       1   \n",
       "2                                       0   \n",
       "3                                       1   \n",
       "4                                       0   \n",
       "...                                   ...   \n",
       "1163                                    1   \n",
       "1164                                    0   \n",
       "1165                                    1   \n",
       "1166                                    1   \n",
       "1167                                    0   \n",
       "\n",
       "      android.permission.SYSTEM_ALERT_WINDOW  android.permission.WRITE_SMS  \\\n",
       "0                                          0                             1   \n",
       "1                                          0                             0   \n",
       "2                                          0                             0   \n",
       "3                                          1                             0   \n",
       "4                                          0                             0   \n",
       "...                                      ...                           ...   \n",
       "1163                                       0                             1   \n",
       "1164                                       1                             1   \n",
       "1165                                       1                             1   \n",
       "1166                                       0                             1   \n",
       "1167                                       1                             0   \n",
       "\n",
       "      android.permission.CHANGE_NETWORK_STATE  android.permission.GET_TASKS  \\\n",
       "0                                           1                             0   \n",
       "1                                           0                             0   \n",
       "2                                           0                             0   \n",
       "3                                           0                             0   \n",
       "4                                           0                             0   \n",
       "...                                       ...                           ...   \n",
       "1163                                        0                             0   \n",
       "1164                                        0                             1   \n",
       "1165                                        1                             0   \n",
       "1166                                        0                             0   \n",
       "1167                                        0                             0   \n",
       "\n",
       "      android.permission.READ_CONTACTS  ...  \\\n",
       "0                                    1  ...   \n",
       "1                                    1  ...   \n",
       "2                                    0  ...   \n",
       "3                                    0  ...   \n",
       "4                                    0  ...   \n",
       "...                                ...  ...   \n",
       "1163                                 0  ...   \n",
       "1164                                 1  ...   \n",
       "1165                                 1  ...   \n",
       "1166                                 0  ...   \n",
       "1167                                 1  ...   \n",
       "\n",
       "      android.permission.FORCE_STOP_PACKAGES  \\\n",
       "0                                          0   \n",
       "1                                          0   \n",
       "2                                          0   \n",
       "3                                          0   \n",
       "4                                          0   \n",
       "...                                      ...   \n",
       "1163                                       0   \n",
       "1164                                       0   \n",
       "1165                                       0   \n",
       "1166                                       0   \n",
       "1167                                       0   \n",
       "\n",
       "      com.huawei.launcher2.permission.READ_SETTINGS  \\\n",
       "0                                                 0   \n",
       "1                                                 0   \n",
       "2                                                 0   \n",
       "3                                                 0   \n",
       "4                                                 0   \n",
       "...                                             ...   \n",
       "1163                                              0   \n",
       "1164                                              0   \n",
       "1165                                              0   \n",
       "1166                                              0   \n",
       "1167                                              0   \n",
       "\n",
       "      android.permission.RAISED_THREAD_PRIORITY  \\\n",
       "0                                             1   \n",
       "1                                             0   \n",
       "2                                             0   \n",
       "3                                             0   \n",
       "4                                             0   \n",
       "...                                         ...   \n",
       "1163                                          0   \n",
       "1164                                          0   \n",
       "1165                                          0   \n",
       "1166                                          0   \n",
       "1167                                          0   \n",
       "\n",
       "      com.lenovo.launcher.permission.WRITE_SETTINGS  \\\n",
       "0                                                 0   \n",
       "1                                                 0   \n",
       "2                                                 0   \n",
       "3                                                 0   \n",
       "4                                                 0   \n",
       "...                                             ...   \n",
       "1163                                              0   \n",
       "1164                                              0   \n",
       "1165                                              0   \n",
       "1166                                              0   \n",
       "1167                                              0   \n",
       "\n",
       "      android.permission.PROCESS_INCOMING_CALLS  \\\n",
       "0                                             0   \n",
       "1                                             0   \n",
       "2                                             0   \n",
       "3                                             0   \n",
       "4                                             0   \n",
       "...                                         ...   \n",
       "1163                                          0   \n",
       "1164                                          0   \n",
       "1165                                          0   \n",
       "1166                                          0   \n",
       "1167                                          0   \n",
       "\n",
       "      com.huawei.launcher3.permission.READ_SETTINGS  \\\n",
       "0                                                 0   \n",
       "1                                                 0   \n",
       "2                                                 0   \n",
       "3                                                 0   \n",
       "4                                                 0   \n",
       "...                                             ...   \n",
       "1163                                              0   \n",
       "1164                                              0   \n",
       "1165                                              0   \n",
       "1166                                              0   \n",
       "1167                                              0   \n",
       "\n",
       "      android.permission.USE_BIOMETRIC  \\\n",
       "0                                    1   \n",
       "1                                    0   \n",
       "2                                    0   \n",
       "3                                    0   \n",
       "4                                    0   \n",
       "...                                ...   \n",
       "1163                                 0   \n",
       "1164                                 0   \n",
       "1165                                 0   \n",
       "1166                                 0   \n",
       "1167                                 0   \n",
       "\n",
       "      android.permission.ACCESS_LOCATION_EXTRA_COMMANDS  \\\n",
       "0                                                     0   \n",
       "1                                                     0   \n",
       "2                                                     0   \n",
       "3                                                     0   \n",
       "4                                                     0   \n",
       "...                                                 ...   \n",
       "1163                                                  0   \n",
       "1164                                                  0   \n",
       "1165                                                  0   \n",
       "1166                                                  0   \n",
       "1167                                                  0   \n",
       "\n",
       "      android.permission.BIND_ACCESSIBILITY_SERVICE  \\\n",
       "0                                                 0   \n",
       "1                                                 0   \n",
       "2                                                 0   \n",
       "3                                                 0   \n",
       "4                                                 0   \n",
       "...                                             ...   \n",
       "1163                                              0   \n",
       "1164                                              0   \n",
       "1165                                              0   \n",
       "1166                                              0   \n",
       "1167                                              0   \n",
       "\n",
       "      android.permission.READ_SYNC_STATS  \n",
       "0                                      0  \n",
       "1                                      0  \n",
       "2                                      0  \n",
       "3                                      0  \n",
       "4                                      0  \n",
       "...                                  ...  \n",
       "1163                                   0  \n",
       "1164                                   0  \n",
       "1165                                   0  \n",
       "1166                                   0  \n",
       "1167                                   0  \n",
       "\n",
       "[1168 rows x 300 columns]"
      ]
     },
     "execution_count": 10,
     "metadata": {},
     "output_type": "execute_result"
    }
   ],
   "source": [
    "X"
   ]
  },
  {
   "cell_type": "code",
   "execution_count": 11,
   "metadata": {},
   "outputs": [],
   "source": [
    "from sklearn.model_selection import train_test_split # Imports the train_test_split function from scikit-learn's model_selection module.\n",
    "\n",
    "#  Splits features (X) and target variable (y) into random train and test subsets\n",
    "X_train, X_test, y_train, y_test = train_test_split(X, y, test_size=0.2, random_state = 0)"
   ]
  },
  {
   "cell_type": "code",
   "execution_count": 12,
   "metadata": {},
   "outputs": [
    {
     "data": {
      "text/plain": [
       "CLASS\n",
       "1    476\n",
       "0    458\n",
       "Name: count, dtype: int64"
      ]
     },
     "execution_count": 12,
     "metadata": {},
     "output_type": "execute_result"
    }
   ],
   "source": [
    "y_train.value_counts()"
   ]
  },
  {
   "cell_type": "markdown",
   "metadata": {},
   "source": [
    "# BruteForce Tuning for RandomForest"
   ]
  },
  {
   "cell_type": "markdown",
   "metadata": {},
   "source": [
    "## Default Param"
   ]
  },
  {
   "cell_type": "code",
   "execution_count": 13,
   "metadata": {},
   "outputs": [
    {
     "name": "stdout",
     "output_type": "stream",
     "text": [
      "Confusion Matrix:\n",
      "[[103   5]\n",
      " [ 13 113]]\n",
      "\n",
      "Classification Report:\n",
      "              precision    recall  f1-score   support\n",
      "\n",
      "           0       0.89      0.95      0.92       108\n",
      "           1       0.96      0.90      0.93       126\n",
      "\n",
      "    accuracy                           0.92       234\n",
      "   macro avg       0.92      0.93      0.92       234\n",
      "weighted avg       0.93      0.92      0.92       234\n",
      "\n",
      "\n",
      "Accuracy: 0.9230769230769231\n"
     ]
    }
   ],
   "source": [
    "from sklearn.ensemble import RandomForestClassifier # Importing RandomForestClassifier from scikit-learn.\n",
    "rf_default = RandomForestClassifier() # Creating an instance of RandomForestClassifier with default hyperparameters.\n",
    "rf_default.fit(X_train, y_train) # Fitting the RandomForestClassifier model to the training data (X_train, y_train)\n",
    "y_pred_test=rf_default.predict(X_test) # Using the trained RandomForestClassifier model (rf_default) to make predictions on the test data (X_test).\n",
    "\n",
    "from sklearn.metrics import classification_report, confusion_matrix, accuracy_score # Importing necessary evaluation metrics from scikit-learn.\n",
    "\n",
    "# Print confusion matrix, classification report, and accuracy\n",
    "print(\"Confusion Matrix:\")\n",
    "print(confusion_matrix(y_test, y_pred_test))\n",
    "print(\"\\nClassification Report:\")\n",
    "print(classification_report(y_test, y_pred_test))\n",
    "print(\"\\nAccuracy:\", accuracy_score(y_test, y_pred_test))"
   ]
  },
  {
   "cell_type": "code",
   "execution_count": 14,
   "metadata": {},
   "outputs": [
    {
     "name": "stdout",
     "output_type": "stream",
     "text": [
      "Accurecy:  0.905982905982906\n"
     ]
    }
   ],
   "source": [
    "# Creating an instance of the RandomForestClassifier class\n",
    "rf_all = RandomForestClassifier(n_estimators=11,max_depth=26,random_state=0) \n",
    "rf_all.fit(X_train, y_train) # trains (fits) the RandomForestClassifier model on the training data.\n",
    "y_pred=rf_all.predict(X_test) # uses the trained RandomForestClassifier model (rf_all) to make predictions on the test data (X_test).\n",
    "print(\"Accurecy: \",accuracy_score(y_test,y_pred))"
   ]
  },
  {
   "cell_type": "code",
   "execution_count": 15,
   "metadata": {},
   "outputs": [
    {
     "name": "stdout",
     "output_type": "stream",
     "text": [
      "Accurecy:  0.9764453961456103\n"
     ]
    }
   ],
   "source": [
    "rf_all = RandomForestClassifier(n_estimators=11,max_depth=26,random_state=0)\n",
    "rf_all.fit(X_train, y_train)\n",
    "y_pred=rf_all.predict(X_train) # predicts the target labels (y_pred) for the training data (X_train) using the trained rf_all model.\n",
    "print(\"Accurecy: \",accuracy_score(y_train,y_pred))"
   ]
  },
  {
   "cell_type": "markdown",
   "metadata": {},
   "source": [
    "# BruteForce Tuning for GradientBoosting"
   ]
  },
  {
   "cell_type": "markdown",
   "metadata": {},
   "source": [
    "## Default Param"
   ]
  },
  {
   "cell_type": "code",
   "execution_count": 16,
   "metadata": {},
   "outputs": [
    {
     "name": "stdout",
     "output_type": "stream",
     "text": [
      "Confusion Matrix:\n",
      "[[105   3]\n",
      " [ 17 109]]\n",
      "\n",
      "Classification Report:\n",
      "              precision    recall  f1-score   support\n",
      "\n",
      "           0       0.86      0.97      0.91       108\n",
      "           1       0.97      0.87      0.92       126\n",
      "\n",
      "    accuracy                           0.91       234\n",
      "   macro avg       0.92      0.92      0.91       234\n",
      "weighted avg       0.92      0.91      0.91       234\n",
      "\n",
      "\n",
      "Accuracy: 0.9145299145299145\n"
     ]
    }
   ],
   "source": [
    "from sklearn.ensemble import GradientBoostingClassifier\n",
    "gb_default = GradientBoostingClassifier()\n",
    "gb_default.fit(X_train, y_train)\n",
    "y_pred_test=gb_default.predict(X_test)\n",
    "\n",
    "from sklearn.metrics import classification_report, confusion_matrix, accuracy_score\n",
    "\n",
    "# Print confusion matrix, classification report, and accuracy\n",
    "print(\"Confusion Matrix:\")\n",
    "print(confusion_matrix(y_test, y_pred_test))\n",
    "print(\"\\nClassification Report:\")\n",
    "print(classification_report(y_test, y_pred_test))\n",
    "print(\"\\nAccuracy:\", accuracy_score(y_test, y_pred_test))"
   ]
  },
  {
   "cell_type": "code",
   "execution_count": 17,
   "metadata": {},
   "outputs": [
    {
     "name": "stdout",
     "output_type": "stream",
     "text": [
      "Accurecy:  0.9316239316239316\n"
     ]
    }
   ],
   "source": [
    "gb = GradientBoostingClassifier(n_estimators=186,max_depth=6,random_state=0)\n",
    "gb.fit(X_train, y_train)\n",
    "y_pred=gb.predict(X_test)\n",
    "print(\"Accurecy: \",accuracy_score(y_test,y_pred))"
   ]
  },
  {
   "cell_type": "code",
   "execution_count": 18,
   "metadata": {},
   "outputs": [
    {
     "name": "stdout",
     "output_type": "stream",
     "text": [
      "Accurecy:  0.9892933618843683\n"
     ]
    }
   ],
   "source": [
    "gb = GradientBoostingClassifier(n_estimators=186,max_depth=6,random_state=0)\n",
    "gb.fit(X_train, y_train)\n",
    "y_pred =gb.predict(X_train)\n",
    "print(\"Accurecy: \",accuracy_score(y_train,y_pred))"
   ]
  },
  {
   "cell_type": "markdown",
   "metadata": {},
   "source": [
    "# BruteForce Tuning for XGBoost"
   ]
  },
  {
   "cell_type": "markdown",
   "metadata": {},
   "source": [
    "## Default Param"
   ]
  },
  {
   "cell_type": "code",
   "execution_count": 19,
   "metadata": {
    "tags": []
   },
   "outputs": [
    {
     "name": "stdout",
     "output_type": "stream",
     "text": [
      "Confusion Matrix:\n",
      "[[102   6]\n",
      " [ 13 113]]\n",
      "\n",
      "Classification Report:\n",
      "              precision    recall  f1-score   support\n",
      "\n",
      "           0       0.89      0.94      0.91       108\n",
      "           1       0.95      0.90      0.92       126\n",
      "\n",
      "    accuracy                           0.92       234\n",
      "   macro avg       0.92      0.92      0.92       234\n",
      "weighted avg       0.92      0.92      0.92       234\n",
      "\n",
      "\n",
      "Accuracy: 0.9188034188034188\n"
     ]
    }
   ],
   "source": [
    "import xgboost as xgb\n",
    "xg_default = xgb.XGBClassifier() # Create an instance of XGBoost classifier\n",
    "xg_default.fit(X_train, y_train) # Train the classifier\n",
    "y_pred_test = xg_default.predict(X_test) # Predict on the test data\n",
    "\n",
    "from sklearn.metrics import classification_report, confusion_matrix, accuracy_score\n",
    "\n",
    "# Print confusion matrix, classification report, and accuracy\n",
    "print(\"Confusion Matrix:\")\n",
    "print(confusion_matrix(y_test, y_pred_test))\n",
    "print(\"\\nClassification Report:\")\n",
    "print(classification_report(y_test, y_pred_test))\n",
    "print(\"\\nAccuracy:\", accuracy_score(y_test, y_pred_test))"
   ]
  },
  {
   "cell_type": "code",
   "execution_count": 20,
   "metadata": {},
   "outputs": [
    {
     "name": "stdout",
     "output_type": "stream",
     "text": [
      "Accurecy:  0.9273504273504274\n"
     ]
    }
   ],
   "source": [
    "xg = xgb.XGBClassifier(n_estimators=41,max_depth=6,random_state=0)\n",
    "xg.fit(X_train, y_train)\n",
    "y_pred = xg.predict(X_test)\n",
    "print(\"Accurecy: \",accuracy_score(y_test,y_pred))"
   ]
  },
  {
   "cell_type": "code",
   "execution_count": 21,
   "metadata": {},
   "outputs": [
    {
     "name": "stdout",
     "output_type": "stream",
     "text": [
      "Accurecy:  0.9668094218415417\n"
     ]
    }
   ],
   "source": [
    "xg = xgb.XGBClassifier(n_estimators=41,max_depth=6,random_state=0)\n",
    "xg.fit(X_train, y_train)\n",
    "y_pred = xg.predict(X_train)\n",
    "print(\"Accurecy: \",accuracy_score(y_train,y_pred))"
   ]
  },
  {
   "cell_type": "markdown",
   "metadata": {},
   "source": [
    "# BruteForce Tuning for boost-histogram"
   ]
  },
  {
   "cell_type": "markdown",
   "metadata": {},
   "source": [
    "## Default Param"
   ]
  },
  {
   "cell_type": "code",
   "execution_count": 22,
   "metadata": {},
   "outputs": [
    {
     "name": "stdout",
     "output_type": "stream",
     "text": [
      "Confusion Matrix:\n",
      "[[101   7]\n",
      " [ 12 114]]\n",
      "\n",
      "Classification Report:\n",
      "              precision    recall  f1-score   support\n",
      "\n",
      "           0       0.89      0.94      0.91       108\n",
      "           1       0.94      0.90      0.92       126\n",
      "\n",
      "    accuracy                           0.92       234\n",
      "   macro avg       0.92      0.92      0.92       234\n",
      "weighted avg       0.92      0.92      0.92       234\n",
      "\n",
      "\n",
      "Accuracy: 0.9188034188034188\n"
     ]
    }
   ],
   "source": [
    "from sklearn.ensemble import HistGradientBoostingClassifier\n",
    "hg_default = HistGradientBoostingClassifier() \n",
    "hg_default.fit(X_train, y_train) \n",
    "y_pred_test = hg_default.predict(X_test) \n",
    "\n",
    "from sklearn.metrics import classification_report, confusion_matrix, accuracy_score\n",
    "\n",
    "print(\"Confusion Matrix:\")\n",
    "print(confusion_matrix(y_test, y_pred_test))\n",
    "print(\"\\nClassification Report:\")\n",
    "print(classification_report(y_test, y_pred_test))\n",
    "print(\"\\nAccuracy:\", accuracy_score(y_test, y_pred_test))"
   ]
  },
  {
   "cell_type": "code",
   "execution_count": 23,
   "metadata": {},
   "outputs": [
    {
     "name": "stdout",
     "output_type": "stream",
     "text": [
      "Accuracy:  0.9188034188034188\n"
     ]
    }
   ],
   "source": [
    "hg = HistGradientBoostingClassifier(max_iter=51,max_depth=16,random_state=0)\n",
    "hg.fit(X_train, y_train)\n",
    "y_pred = hg.predict(X_test)\n",
    "print(\"Accuracy: \",accuracy_score(y_test,y_pred))"
   ]
  },
  {
   "cell_type": "code",
   "execution_count": 24,
   "metadata": {},
   "outputs": [
    {
     "name": "stdout",
     "output_type": "stream",
     "text": [
      "Accuracy:  0.9518201284796574\n"
     ]
    }
   ],
   "source": [
    "hg = HistGradientBoostingClassifier(max_iter=51,max_depth=16,random_state=0)\n",
    "hg.fit(X_train, y_train)\n",
    "y_pred = hg.predict(X_train)\n",
    "print(\"Accuracy: \",accuracy_score(y_train,y_pred))"
   ]
  }
 ],
 "metadata": {
  "kaggle": {
   "accelerator": "none",
   "dataSources": [
    {
     "datasetId": 3520887,
     "sourceId": 6140055,
     "sourceType": "datasetVersion"
    }
   ],
   "dockerImageVersionId": 30646,
   "isGpuEnabled": false,
   "isInternetEnabled": false,
   "language": "python",
   "sourceType": "notebook"
  },
  "kernelspec": {
   "display_name": "Python 3 (ipykernel)",
   "language": "python",
   "name": "python3"
  },
  "language_info": {
   "codemirror_mode": {
    "name": "ipython",
    "version": 3
   },
   "file_extension": ".py",
   "mimetype": "text/x-python",
   "name": "python",
   "nbconvert_exporter": "python",
   "pygments_lexer": "ipython3",
   "version": "3.12.2"
  }
 },
 "nbformat": 4,
 "nbformat_minor": 4
}
